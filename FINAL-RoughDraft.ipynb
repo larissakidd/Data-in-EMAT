{
 "cells": [
  {
   "cell_type": "markdown",
   "id": "810c1120",
   "metadata": {},
   "source": [
    "## Milwaukee Housing Data - Larissa Kidd 11/28/2023\n",
    "### From https://data.milwaukee.gov/dataset/property-sales-data\n",
    "Every year, the city of Milwaukee uploads a data file about which houses were sold in that past year. I want to compare 2002 against 2022 for a comparison of the 20 year difference and use 2012 for a 10 year difference between 2002 and 2022."
   ]
  },
  {
   "cell_type": "markdown",
   "id": "04a63e67",
   "metadata": {},
   "source": [
    "Background info about the variables:\n",
    "Dataset information: Milwaukee historical housing sales.\n",
    "Field Name =Description\n",
    "PropertyID\t= A unique identifier for each property.\n",
    "PropType= The type of property (e.g., Commercial or Residential).\n",
    "taxkey =The tax key associated with the property\n",
    "Address = The address of the property.\n",
    "CondoProject= Information about whether the property is part of a condominium\tproject (NaN indicates missing data).\n",
    "District= The district number for the property.\n",
    "nbhd= The neighborhood number for the property.\n",
    "Style =The architectural style of the property.\n",
    "Extwall =The type of exterior wall material used.\n",
    "Stories =The number of stories in the building.\n",
    "Year_Built =The year the property was built.\n",
    "Rooms =The number of rooms in the property.\n",
    "FinishedSqft =The total square footage of finished space in the property.\n",
    "Units =The number of units in the property(e.g., apartments in a multifamily building) \n",
    "Bdrms =The number of bedrooms in the property.\n",
    "Fbath =The number of full bathrooms in the property.\n",
    "Hbath =The number of half bathrooms in the property.\n",
    "Lotsize =The size of the lot associated with the property.\n",
    "Sale_date =The date when the property was sold.\n",
    "Sale_price =The sale price of the property."
   ]
  },
  {
   "cell_type": "code",
   "execution_count": 65,
   "id": "e371a7a5",
   "metadata": {},
   "outputs": [],
   "source": [
    "from matplotlib import pyplot as plt\n",
    "import pandas as pd\n",
    "import numpy as np\n",
    "from matplotlib import pyplot as plt"
   ]
  },
  {
   "cell_type": "code",
   "execution_count": 66,
   "id": "25da11af",
   "metadata": {
    "scrolled": true
   },
   "outputs": [
    {
     "data": {
      "text/html": [
       "<div>\n",
       "<style scoped>\n",
       "    .dataframe tbody tr th:only-of-type {\n",
       "        vertical-align: middle;\n",
       "    }\n",
       "\n",
       "    .dataframe tbody tr th {\n",
       "        vertical-align: top;\n",
       "    }\n",
       "\n",
       "    .dataframe thead th {\n",
       "        text-align: right;\n",
       "    }\n",
       "</style>\n",
       "<table border=\"1\" class=\"dataframe\">\n",
       "  <thead>\n",
       "    <tr style=\"text-align: right;\">\n",
       "      <th></th>\n",
       "      <th>PropType</th>\n",
       "      <th>Taxkey</th>\n",
       "      <th>Address</th>\n",
       "      <th>CondoProject</th>\n",
       "      <th>District</th>\n",
       "      <th>Nbhd</th>\n",
       "      <th>Style</th>\n",
       "      <th>Extwall</th>\n",
       "      <th>Stories</th>\n",
       "      <th>Year_Built</th>\n",
       "      <th>Nr_of_rms</th>\n",
       "      <th>Fin_sqft</th>\n",
       "      <th>Units</th>\n",
       "      <th>Bdrms</th>\n",
       "      <th>Fbath</th>\n",
       "      <th>Hbath</th>\n",
       "      <th>Lotsize</th>\n",
       "      <th>Sale_date</th>\n",
       "      <th>Sale_price</th>\n",
       "    </tr>\n",
       "  </thead>\n",
       "  <tbody>\n",
       "    <tr>\n",
       "      <th>0</th>\n",
       "      <td>Commercial</td>\n",
       "      <td>3230461110</td>\n",
       "      <td>2628 N 6TH ST</td>\n",
       "      <td>NaN</td>\n",
       "      <td>6</td>\n",
       "      <td>6258</td>\n",
       "      <td>Commercial Exempt</td>\n",
       "      <td>NaN</td>\n",
       "      <td>2.0</td>\n",
       "      <td>1880</td>\n",
       "      <td>0</td>\n",
       "      <td>1840</td>\n",
       "      <td>1</td>\n",
       "      <td>0</td>\n",
       "      <td>0</td>\n",
       "      <td>0</td>\n",
       "      <td>12750</td>\n",
       "      <td>2002-01</td>\n",
       "      <td>15900</td>\n",
       "    </tr>\n",
       "    <tr>\n",
       "      <th>1</th>\n",
       "      <td>Commercial</td>\n",
       "      <td>3590192000</td>\n",
       "      <td>1363 N PROSPECT AV</td>\n",
       "      <td>NaN</td>\n",
       "      <td>3</td>\n",
       "      <td>6262</td>\n",
       "      <td>Mansions With Commercial Usage</td>\n",
       "      <td>NaN</td>\n",
       "      <td>2.0</td>\n",
       "      <td>1876</td>\n",
       "      <td>0</td>\n",
       "      <td>6377</td>\n",
       "      <td>1</td>\n",
       "      <td>0</td>\n",
       "      <td>0</td>\n",
       "      <td>0</td>\n",
       "      <td>11840</td>\n",
       "      <td>2002-01</td>\n",
       "      <td>850000</td>\n",
       "    </tr>\n",
       "    <tr>\n",
       "      <th>2</th>\n",
       "      <td>Commercial</td>\n",
       "      <td>4161194000</td>\n",
       "      <td>617 S 94TH ST</td>\n",
       "      <td>NaN</td>\n",
       "      <td>10</td>\n",
       "      <td>6272</td>\n",
       "      <td>Service Building</td>\n",
       "      <td>NaN</td>\n",
       "      <td>1.0</td>\n",
       "      <td>1954</td>\n",
       "      <td>0</td>\n",
       "      <td>5022</td>\n",
       "      <td>1</td>\n",
       "      <td>0</td>\n",
       "      <td>0</td>\n",
       "      <td>0</td>\n",
       "      <td>9700</td>\n",
       "      <td>2002-01</td>\n",
       "      <td>119000</td>\n",
       "    </tr>\n",
       "    <tr>\n",
       "      <th>3</th>\n",
       "      <td>Commercial</td>\n",
       "      <td>1719836000</td>\n",
       "      <td>3624 W SILVER SPRING DR</td>\n",
       "      <td>NaN</td>\n",
       "      <td>1</td>\n",
       "      <td>6218</td>\n",
       "      <td>Store Bldg - Multi Story (Store &amp; Apt, Store &amp; O</td>\n",
       "      <td>NaN</td>\n",
       "      <td>2.0</td>\n",
       "      <td>1955</td>\n",
       "      <td>0</td>\n",
       "      <td>6420</td>\n",
       "      <td>1</td>\n",
       "      <td>0</td>\n",
       "      <td>0</td>\n",
       "      <td>0</td>\n",
       "      <td>8792</td>\n",
       "      <td>2002-01</td>\n",
       "      <td>210000</td>\n",
       "    </tr>\n",
       "    <tr>\n",
       "      <th>4</th>\n",
       "      <td>Commercial</td>\n",
       "      <td>3480290000</td>\n",
       "      <td>3830 W LISBON AV</td>\n",
       "      <td>NaN</td>\n",
       "      <td>15</td>\n",
       "      <td>6254</td>\n",
       "      <td>Store Bldg - Multi Story (Store &amp; Apt, Store &amp; O</td>\n",
       "      <td>NaN</td>\n",
       "      <td>2.0</td>\n",
       "      <td>1909</td>\n",
       "      <td>0</td>\n",
       "      <td>5956</td>\n",
       "      <td>1</td>\n",
       "      <td>0</td>\n",
       "      <td>0</td>\n",
       "      <td>0</td>\n",
       "      <td>4840</td>\n",
       "      <td>2002-01</td>\n",
       "      <td>48500</td>\n",
       "    </tr>\n",
       "  </tbody>\n",
       "</table>\n",
       "</div>"
      ],
      "text/plain": [
       "     PropType      Taxkey                  Address CondoProject  District  \\\n",
       "0  Commercial  3230461110            2628 N 6TH ST          NaN         6   \n",
       "1  Commercial  3590192000       1363 N PROSPECT AV          NaN         3   \n",
       "2  Commercial  4161194000            617 S 94TH ST          NaN        10   \n",
       "3  Commercial  1719836000  3624 W SILVER SPRING DR          NaN         1   \n",
       "4  Commercial  3480290000         3830 W LISBON AV          NaN        15   \n",
       "\n",
       "   Nbhd                                             Style Extwall  Stories  \\\n",
       "0  6258                                 Commercial Exempt     NaN      2.0   \n",
       "1  6262                    Mansions With Commercial Usage     NaN      2.0   \n",
       "2  6272                                  Service Building     NaN      1.0   \n",
       "3  6218  Store Bldg - Multi Story (Store & Apt, Store & O     NaN      2.0   \n",
       "4  6254  Store Bldg - Multi Story (Store & Apt, Store & O     NaN      2.0   \n",
       "\n",
       "   Year_Built  Nr_of_rms  Fin_sqft  Units  Bdrms  Fbath  Hbath  Lotsize  \\\n",
       "0        1880          0      1840      1      0      0      0    12750   \n",
       "1        1876          0      6377      1      0      0      0    11840   \n",
       "2        1954          0      5022      1      0      0      0     9700   \n",
       "3        1955          0      6420      1      0      0      0     8792   \n",
       "4        1909          0      5956      1      0      0      0     4840   \n",
       "\n",
       "  Sale_date  Sale_price  \n",
       "0   2002-01       15900  \n",
       "1   2002-01      850000  \n",
       "2   2002-01      119000  \n",
       "3   2002-01      210000  \n",
       "4   2002-01       48500  "
      ]
     },
     "execution_count": 66,
     "metadata": {},
     "output_type": "execute_result"
    }
   ],
   "source": [
    "data02 = pd.read_csv('2002-property-sales-data.csv')\n",
    "data12 = pd.read_csv('2012-property-sales-data.csv')\n",
    "data22 = pd.read_csv('2022-property-sales-data.csv')\n",
    "data02.head()"
   ]
  },
  {
   "cell_type": "code",
   "execution_count": 67,
   "id": "26d3c29d",
   "metadata": {},
   "outputs": [
    {
     "data": {
      "text/html": [
       "<div>\n",
       "<style scoped>\n",
       "    .dataframe tbody tr th:only-of-type {\n",
       "        vertical-align: middle;\n",
       "    }\n",
       "\n",
       "    .dataframe tbody tr th {\n",
       "        vertical-align: top;\n",
       "    }\n",
       "\n",
       "    .dataframe thead th {\n",
       "        text-align: right;\n",
       "    }\n",
       "</style>\n",
       "<table border=\"1\" class=\"dataframe\">\n",
       "  <thead>\n",
       "    <tr style=\"text-align: right;\">\n",
       "      <th></th>\n",
       "      <th>PropType</th>\n",
       "      <th>Taxkey</th>\n",
       "      <th>Address</th>\n",
       "      <th>CondoProject</th>\n",
       "      <th>District</th>\n",
       "      <th>Nbhd</th>\n",
       "      <th>Style</th>\n",
       "      <th>Extwall</th>\n",
       "      <th>Stories</th>\n",
       "      <th>Year_Built</th>\n",
       "      <th>Nr_of_rms</th>\n",
       "      <th>Fin_sqft</th>\n",
       "      <th>Units</th>\n",
       "      <th>Bdrms</th>\n",
       "      <th>Fbath</th>\n",
       "      <th>Hbath</th>\n",
       "      <th>Lotsize</th>\n",
       "      <th>Sale_date</th>\n",
       "      <th>Sale_price</th>\n",
       "    </tr>\n",
       "  </thead>\n",
       "  <tbody>\n",
       "    <tr>\n",
       "      <th>0</th>\n",
       "      <td>Residential</td>\n",
       "      <td>1930715000</td>\n",
       "      <td>5271 N TEUTONIA AV</td>\n",
       "      <td>NaN</td>\n",
       "      <td>1</td>\n",
       "      <td>1160</td>\n",
       "      <td>Cape Cod</td>\n",
       "      <td>Aluminum / Vinyl</td>\n",
       "      <td>1.0</td>\n",
       "      <td>1940</td>\n",
       "      <td>0</td>\n",
       "      <td>1206</td>\n",
       "      <td>1</td>\n",
       "      <td>3</td>\n",
       "      <td>1</td>\n",
       "      <td>0</td>\n",
       "      <td>5880</td>\n",
       "      <td>2012-01</td>\n",
       "      <td>35000</td>\n",
       "    </tr>\n",
       "    <tr>\n",
       "      <th>1</th>\n",
       "      <td>Residential</td>\n",
       "      <td>2081312000</td>\n",
       "      <td>5138 N 40TH ST</td>\n",
       "      <td>NaN</td>\n",
       "      <td>1</td>\n",
       "      <td>1440</td>\n",
       "      <td>Ranch</td>\n",
       "      <td>Aluminum / Vinyl</td>\n",
       "      <td>1.0</td>\n",
       "      <td>1952</td>\n",
       "      <td>0</td>\n",
       "      <td>908</td>\n",
       "      <td>1</td>\n",
       "      <td>2</td>\n",
       "      <td>1</td>\n",
       "      <td>0</td>\n",
       "      <td>3270</td>\n",
       "      <td>2012-01</td>\n",
       "      <td>34507</td>\n",
       "    </tr>\n",
       "    <tr>\n",
       "      <th>2</th>\n",
       "      <td>Residential</td>\n",
       "      <td>2260831000</td>\n",
       "      <td>4463 N 66TH ST</td>\n",
       "      <td>NaN</td>\n",
       "      <td>2</td>\n",
       "      <td>1490</td>\n",
       "      <td>Cape Cod</td>\n",
       "      <td>Brick</td>\n",
       "      <td>1.0</td>\n",
       "      <td>1953</td>\n",
       "      <td>0</td>\n",
       "      <td>1512</td>\n",
       "      <td>1</td>\n",
       "      <td>3</td>\n",
       "      <td>2</td>\n",
       "      <td>0</td>\n",
       "      <td>5250</td>\n",
       "      <td>2012-01</td>\n",
       "      <td>112900</td>\n",
       "    </tr>\n",
       "    <tr>\n",
       "      <th>3</th>\n",
       "      <td>Residential</td>\n",
       "      <td>2120137000</td>\n",
       "      <td>7009 W VILLARD AV</td>\n",
       "      <td>NaN</td>\n",
       "      <td>2</td>\n",
       "      <td>1380</td>\n",
       "      <td>Cape Cod</td>\n",
       "      <td>Aluminum / Vinyl</td>\n",
       "      <td>1.0</td>\n",
       "      <td>1956</td>\n",
       "      <td>0</td>\n",
       "      <td>1326</td>\n",
       "      <td>1</td>\n",
       "      <td>4</td>\n",
       "      <td>1</td>\n",
       "      <td>0</td>\n",
       "      <td>4800</td>\n",
       "      <td>2012-01</td>\n",
       "      <td>67000</td>\n",
       "    </tr>\n",
       "    <tr>\n",
       "      <th>4</th>\n",
       "      <td>Residential</td>\n",
       "      <td>1440202000</td>\n",
       "      <td>9131 W EDGEWATER DR</td>\n",
       "      <td>NaN</td>\n",
       "      <td>2</td>\n",
       "      <td>480</td>\n",
       "      <td>Colonial</td>\n",
       "      <td>Aluminum / Vinyl</td>\n",
       "      <td>2.0</td>\n",
       "      <td>2003</td>\n",
       "      <td>0</td>\n",
       "      <td>1991</td>\n",
       "      <td>1</td>\n",
       "      <td>4</td>\n",
       "      <td>2</td>\n",
       "      <td>1</td>\n",
       "      <td>21571</td>\n",
       "      <td>2012-01</td>\n",
       "      <td>194800</td>\n",
       "    </tr>\n",
       "  </tbody>\n",
       "</table>\n",
       "</div>"
      ],
      "text/plain": [
       "      PropType      Taxkey              Address CondoProject  District  Nbhd  \\\n",
       "0  Residential  1930715000   5271 N TEUTONIA AV          NaN         1  1160   \n",
       "1  Residential  2081312000       5138 N 40TH ST          NaN         1  1440   \n",
       "2  Residential  2260831000       4463 N 66TH ST          NaN         2  1490   \n",
       "3  Residential  2120137000    7009 W VILLARD AV          NaN         2  1380   \n",
       "4  Residential  1440202000  9131 W EDGEWATER DR          NaN         2   480   \n",
       "\n",
       "      Style           Extwall  Stories  Year_Built  Nr_of_rms  Fin_sqft  \\\n",
       "0  Cape Cod  Aluminum / Vinyl      1.0        1940          0      1206   \n",
       "1     Ranch  Aluminum / Vinyl      1.0        1952          0       908   \n",
       "2  Cape Cod             Brick      1.0        1953          0      1512   \n",
       "3  Cape Cod  Aluminum / Vinyl      1.0        1956          0      1326   \n",
       "4  Colonial  Aluminum / Vinyl      2.0        2003          0      1991   \n",
       "\n",
       "   Units  Bdrms  Fbath  Hbath  Lotsize Sale_date  Sale_price  \n",
       "0      1      3      1      0     5880   2012-01       35000  \n",
       "1      1      2      1      0     3270   2012-01       34507  \n",
       "2      1      3      2      0     5250   2012-01      112900  \n",
       "3      1      4      1      0     4800   2012-01       67000  \n",
       "4      1      4      2      1    21571   2012-01      194800  "
      ]
     },
     "execution_count": 67,
     "metadata": {},
     "output_type": "execute_result"
    }
   ],
   "source": [
    "data12.head()"
   ]
  },
  {
   "cell_type": "code",
   "execution_count": 68,
   "id": "f16e878a",
   "metadata": {},
   "outputs": [
    {
     "data": {
      "text/html": [
       "<div>\n",
       "<style scoped>\n",
       "    .dataframe tbody tr th:only-of-type {\n",
       "        vertical-align: middle;\n",
       "    }\n",
       "\n",
       "    .dataframe tbody tr th {\n",
       "        vertical-align: top;\n",
       "    }\n",
       "\n",
       "    .dataframe thead th {\n",
       "        text-align: right;\n",
       "    }\n",
       "</style>\n",
       "<table border=\"1\" class=\"dataframe\">\n",
       "  <thead>\n",
       "    <tr style=\"text-align: right;\">\n",
       "      <th></th>\n",
       "      <th>PropertyID</th>\n",
       "      <th>PropType</th>\n",
       "      <th>taxkey</th>\n",
       "      <th>Address</th>\n",
       "      <th>CondoProject</th>\n",
       "      <th>District</th>\n",
       "      <th>nbhd</th>\n",
       "      <th>Style</th>\n",
       "      <th>Extwall</th>\n",
       "      <th>Stories</th>\n",
       "      <th>Year_Built</th>\n",
       "      <th>Rooms</th>\n",
       "      <th>FinishedSqft</th>\n",
       "      <th>Units</th>\n",
       "      <th>Bdrms</th>\n",
       "      <th>Fbath</th>\n",
       "      <th>Hbath</th>\n",
       "      <th>Lotsize</th>\n",
       "      <th>Sale_date</th>\n",
       "      <th>Sale_price</th>\n",
       "    </tr>\n",
       "  </thead>\n",
       "  <tbody>\n",
       "    <tr>\n",
       "      <th>0</th>\n",
       "      <td>98461</td>\n",
       "      <td>Manufacturing</td>\n",
       "      <td>30131000</td>\n",
       "      <td>9434-9446 N 107TH ST</td>\n",
       "      <td>NaN</td>\n",
       "      <td>9</td>\n",
       "      <td>6300</td>\n",
       "      <td>Service Building</td>\n",
       "      <td>Concrete Block</td>\n",
       "      <td>1.0</td>\n",
       "      <td>1978.0</td>\n",
       "      <td>NaN</td>\n",
       "      <td>20600.0</td>\n",
       "      <td>6</td>\n",
       "      <td>NaN</td>\n",
       "      <td>0</td>\n",
       "      <td>0</td>\n",
       "      <td>0</td>\n",
       "      <td>2022-04-01</td>\n",
       "      <td>950000.0</td>\n",
       "    </tr>\n",
       "    <tr>\n",
       "      <th>1</th>\n",
       "      <td>98464</td>\n",
       "      <td>Commercial</td>\n",
       "      <td>30152000</td>\n",
       "      <td>9306-9316 N 107TH ST</td>\n",
       "      <td>NaN</td>\n",
       "      <td>9</td>\n",
       "      <td>6202</td>\n",
       "      <td>Office Building - 1 Story</td>\n",
       "      <td>Brick</td>\n",
       "      <td>1.0</td>\n",
       "      <td>1982.0</td>\n",
       "      <td>NaN</td>\n",
       "      <td>9688.0</td>\n",
       "      <td>23</td>\n",
       "      <td>NaN</td>\n",
       "      <td>0</td>\n",
       "      <td>0</td>\n",
       "      <td>35719</td>\n",
       "      <td>2022-10-07</td>\n",
       "      <td>385000.0</td>\n",
       "    </tr>\n",
       "    <tr>\n",
       "      <th>2</th>\n",
       "      <td>98508</td>\n",
       "      <td>Residential</td>\n",
       "      <td>49980110</td>\n",
       "      <td>9327 N SWAN RD</td>\n",
       "      <td>NaN</td>\n",
       "      <td>9</td>\n",
       "      <td>40</td>\n",
       "      <td>NaN</td>\n",
       "      <td>NaN</td>\n",
       "      <td>NaN</td>\n",
       "      <td>NaN</td>\n",
       "      <td>NaN</td>\n",
       "      <td>NaN</td>\n",
       "      <td>0</td>\n",
       "      <td>NaN</td>\n",
       "      <td>0</td>\n",
       "      <td>0</td>\n",
       "      <td>1341648</td>\n",
       "      <td>2022-01-07</td>\n",
       "      <td>800000.0</td>\n",
       "    </tr>\n",
       "    <tr>\n",
       "      <th>3</th>\n",
       "      <td>98519</td>\n",
       "      <td>Residential</td>\n",
       "      <td>49993200</td>\n",
       "      <td>9411 W COUNTY LINE RD</td>\n",
       "      <td>NaN</td>\n",
       "      <td>9</td>\n",
       "      <td>40</td>\n",
       "      <td>Ranch</td>\n",
       "      <td>Aluminum/Vinyl</td>\n",
       "      <td>1.0</td>\n",
       "      <td>1959.0</td>\n",
       "      <td>6.0</td>\n",
       "      <td>1334.0</td>\n",
       "      <td>1</td>\n",
       "      <td>3.0</td>\n",
       "      <td>1</td>\n",
       "      <td>1</td>\n",
       "      <td>83200</td>\n",
       "      <td>2022-08-09</td>\n",
       "      <td>280000.0</td>\n",
       "    </tr>\n",
       "    <tr>\n",
       "      <th>4</th>\n",
       "      <td>98561</td>\n",
       "      <td>Residential</td>\n",
       "      <td>50042000</td>\n",
       "      <td>9322 N JOYCE AV</td>\n",
       "      <td>NaN</td>\n",
       "      <td>9</td>\n",
       "      <td>40</td>\n",
       "      <td>Ranch</td>\n",
       "      <td>Aluminum/Vinyl</td>\n",
       "      <td>1.0</td>\n",
       "      <td>1980.0</td>\n",
       "      <td>10.0</td>\n",
       "      <td>1006.0</td>\n",
       "      <td>1</td>\n",
       "      <td>6.0</td>\n",
       "      <td>1</td>\n",
       "      <td>0</td>\n",
       "      <td>8303</td>\n",
       "      <td>2022-05-23</td>\n",
       "      <td>233100.0</td>\n",
       "    </tr>\n",
       "  </tbody>\n",
       "</table>\n",
       "</div>"
      ],
      "text/plain": [
       "   PropertyID       PropType    taxkey                Address CondoProject  \\\n",
       "0       98461  Manufacturing  30131000   9434-9446 N 107TH ST          NaN   \n",
       "1       98464     Commercial  30152000   9306-9316 N 107TH ST          NaN   \n",
       "2       98508    Residential  49980110         9327 N SWAN RD          NaN   \n",
       "3       98519    Residential  49993200  9411 W COUNTY LINE RD          NaN   \n",
       "4       98561    Residential  50042000        9322 N JOYCE AV          NaN   \n",
       "\n",
       "   District  nbhd                      Style         Extwall  Stories  \\\n",
       "0         9  6300           Service Building  Concrete Block      1.0   \n",
       "1         9  6202  Office Building - 1 Story           Brick      1.0   \n",
       "2         9    40                        NaN             NaN      NaN   \n",
       "3         9    40                      Ranch  Aluminum/Vinyl      1.0   \n",
       "4         9    40                      Ranch  Aluminum/Vinyl      1.0   \n",
       "\n",
       "   Year_Built  Rooms  FinishedSqft  Units  Bdrms  Fbath  Hbath  Lotsize  \\\n",
       "0      1978.0    NaN       20600.0      6    NaN      0      0        0   \n",
       "1      1982.0    NaN        9688.0     23    NaN      0      0    35719   \n",
       "2         NaN    NaN           NaN      0    NaN      0      0  1341648   \n",
       "3      1959.0    6.0        1334.0      1    3.0      1      1    83200   \n",
       "4      1980.0   10.0        1006.0      1    6.0      1      0     8303   \n",
       "\n",
       "    Sale_date  Sale_price  \n",
       "0  2022-04-01    950000.0  \n",
       "1  2022-10-07    385000.0  \n",
       "2  2022-01-07    800000.0  \n",
       "3  2022-08-09    280000.0  \n",
       "4  2022-05-23    233100.0  "
      ]
     },
     "execution_count": 68,
     "metadata": {},
     "output_type": "execute_result"
    }
   ],
   "source": [
    "data22.head()"
   ]
  },
  {
   "cell_type": "code",
   "execution_count": 69,
   "id": "b21f76d1",
   "metadata": {},
   "outputs": [],
   "source": [
    "data22 = data22.rename(columns = {'taxkey':'Taxkey','nbhd':'Nbhd','Rooms':'Nr_of_rms','FinishedSqft':'Fin_sqft'})"
   ]
  },
  {
   "cell_type": "code",
   "execution_count": 70,
   "id": "6f630073",
   "metadata": {
    "scrolled": true
   },
   "outputs": [
    {
     "data": {
      "text/plain": [
       "(170, 19)"
      ]
     },
     "execution_count": 70,
     "metadata": {},
     "output_type": "execute_result"
    }
   ],
   "source": [
    "data02.shape"
   ]
  },
  {
   "cell_type": "markdown",
   "id": "0df8822f",
   "metadata": {},
   "source": [
    "The shape of data02 is important to remember as the numbers are based off of much less data"
   ]
  },
  {
   "cell_type": "code",
   "execution_count": 71,
   "id": "41237170",
   "metadata": {},
   "outputs": [
    {
     "data": {
      "text/plain": [
       "(1996, 19)"
      ]
     },
     "execution_count": 71,
     "metadata": {},
     "output_type": "execute_result"
    }
   ],
   "source": [
    "data12.shape"
   ]
  },
  {
   "cell_type": "code",
   "execution_count": 72,
   "id": "dc2c61b0",
   "metadata": {},
   "outputs": [
    {
     "data": {
      "text/plain": [
       "(7146, 20)"
      ]
     },
     "execution_count": 72,
     "metadata": {},
     "output_type": "execute_result"
    }
   ],
   "source": [
    "data22.shape"
   ]
  },
  {
   "cell_type": "code",
   "execution_count": 73,
   "id": "9f1d1143",
   "metadata": {},
   "outputs": [
    {
     "data": {
      "text/html": [
       "<div>\n",
       "<style scoped>\n",
       "    .dataframe tbody tr th:only-of-type {\n",
       "        vertical-align: middle;\n",
       "    }\n",
       "\n",
       "    .dataframe tbody tr th {\n",
       "        vertical-align: top;\n",
       "    }\n",
       "\n",
       "    .dataframe thead th {\n",
       "        text-align: right;\n",
       "    }\n",
       "</style>\n",
       "<table border=\"1\" class=\"dataframe\">\n",
       "  <thead>\n",
       "    <tr style=\"text-align: right;\">\n",
       "      <th></th>\n",
       "      <th></th>\n",
       "      <th>PropType</th>\n",
       "      <th>Taxkey</th>\n",
       "      <th>Address</th>\n",
       "      <th>CondoProject</th>\n",
       "      <th>District</th>\n",
       "      <th>Nbhd</th>\n",
       "      <th>Style</th>\n",
       "      <th>Extwall</th>\n",
       "      <th>Stories</th>\n",
       "      <th>Year_Built</th>\n",
       "      <th>Nr_of_rms</th>\n",
       "      <th>Fin_sqft</th>\n",
       "      <th>Units</th>\n",
       "      <th>Bdrms</th>\n",
       "      <th>Fbath</th>\n",
       "      <th>Hbath</th>\n",
       "      <th>Lotsize</th>\n",
       "      <th>Sale_date</th>\n",
       "      <th>Sale_price</th>\n",
       "      <th>PropertyID</th>\n",
       "    </tr>\n",
       "  </thead>\n",
       "  <tbody>\n",
       "    <tr>\n",
       "      <th rowspan=\"5\" valign=\"top\">2002 Housing Data</th>\n",
       "      <th>0</th>\n",
       "      <td>Commercial</td>\n",
       "      <td>3230461110</td>\n",
       "      <td>2628 N 6TH ST</td>\n",
       "      <td>NaN</td>\n",
       "      <td>6</td>\n",
       "      <td>6258</td>\n",
       "      <td>Commercial Exempt</td>\n",
       "      <td>NaN</td>\n",
       "      <td>2.0</td>\n",
       "      <td>1880.0</td>\n",
       "      <td>0.0</td>\n",
       "      <td>1840.0</td>\n",
       "      <td>1</td>\n",
       "      <td>0.0</td>\n",
       "      <td>0</td>\n",
       "      <td>0</td>\n",
       "      <td>12750</td>\n",
       "      <td>2002-01</td>\n",
       "      <td>15900.0</td>\n",
       "      <td>NaN</td>\n",
       "    </tr>\n",
       "    <tr>\n",
       "      <th>1</th>\n",
       "      <td>Commercial</td>\n",
       "      <td>3590192000</td>\n",
       "      <td>1363 N PROSPECT AV</td>\n",
       "      <td>NaN</td>\n",
       "      <td>3</td>\n",
       "      <td>6262</td>\n",
       "      <td>Mansions With Commercial Usage</td>\n",
       "      <td>NaN</td>\n",
       "      <td>2.0</td>\n",
       "      <td>1876.0</td>\n",
       "      <td>0.0</td>\n",
       "      <td>6377.0</td>\n",
       "      <td>1</td>\n",
       "      <td>0.0</td>\n",
       "      <td>0</td>\n",
       "      <td>0</td>\n",
       "      <td>11840</td>\n",
       "      <td>2002-01</td>\n",
       "      <td>850000.0</td>\n",
       "      <td>NaN</td>\n",
       "    </tr>\n",
       "    <tr>\n",
       "      <th>2</th>\n",
       "      <td>Commercial</td>\n",
       "      <td>4161194000</td>\n",
       "      <td>617 S 94TH ST</td>\n",
       "      <td>NaN</td>\n",
       "      <td>10</td>\n",
       "      <td>6272</td>\n",
       "      <td>Service Building</td>\n",
       "      <td>NaN</td>\n",
       "      <td>1.0</td>\n",
       "      <td>1954.0</td>\n",
       "      <td>0.0</td>\n",
       "      <td>5022.0</td>\n",
       "      <td>1</td>\n",
       "      <td>0.0</td>\n",
       "      <td>0</td>\n",
       "      <td>0</td>\n",
       "      <td>9700</td>\n",
       "      <td>2002-01</td>\n",
       "      <td>119000.0</td>\n",
       "      <td>NaN</td>\n",
       "    </tr>\n",
       "    <tr>\n",
       "      <th>3</th>\n",
       "      <td>Commercial</td>\n",
       "      <td>1719836000</td>\n",
       "      <td>3624 W SILVER SPRING DR</td>\n",
       "      <td>NaN</td>\n",
       "      <td>1</td>\n",
       "      <td>6218</td>\n",
       "      <td>Store Bldg - Multi Story (Store &amp; Apt, Store &amp; O</td>\n",
       "      <td>NaN</td>\n",
       "      <td>2.0</td>\n",
       "      <td>1955.0</td>\n",
       "      <td>0.0</td>\n",
       "      <td>6420.0</td>\n",
       "      <td>1</td>\n",
       "      <td>0.0</td>\n",
       "      <td>0</td>\n",
       "      <td>0</td>\n",
       "      <td>8792</td>\n",
       "      <td>2002-01</td>\n",
       "      <td>210000.0</td>\n",
       "      <td>NaN</td>\n",
       "    </tr>\n",
       "    <tr>\n",
       "      <th>4</th>\n",
       "      <td>Commercial</td>\n",
       "      <td>3480290000</td>\n",
       "      <td>3830 W LISBON AV</td>\n",
       "      <td>NaN</td>\n",
       "      <td>15</td>\n",
       "      <td>6254</td>\n",
       "      <td>Store Bldg - Multi Story (Store &amp; Apt, Store &amp; O</td>\n",
       "      <td>NaN</td>\n",
       "      <td>2.0</td>\n",
       "      <td>1909.0</td>\n",
       "      <td>0.0</td>\n",
       "      <td>5956.0</td>\n",
       "      <td>1</td>\n",
       "      <td>0.0</td>\n",
       "      <td>0</td>\n",
       "      <td>0</td>\n",
       "      <td>4840</td>\n",
       "      <td>2002-01</td>\n",
       "      <td>48500.0</td>\n",
       "      <td>NaN</td>\n",
       "    </tr>\n",
       "    <tr>\n",
       "      <th>...</th>\n",
       "      <th>...</th>\n",
       "      <td>...</td>\n",
       "      <td>...</td>\n",
       "      <td>...</td>\n",
       "      <td>...</td>\n",
       "      <td>...</td>\n",
       "      <td>...</td>\n",
       "      <td>...</td>\n",
       "      <td>...</td>\n",
       "      <td>...</td>\n",
       "      <td>...</td>\n",
       "      <td>...</td>\n",
       "      <td>...</td>\n",
       "      <td>...</td>\n",
       "      <td>...</td>\n",
       "      <td>...</td>\n",
       "      <td>...</td>\n",
       "      <td>...</td>\n",
       "      <td>...</td>\n",
       "      <td>...</td>\n",
       "      <td>...</td>\n",
       "    </tr>\n",
       "    <tr>\n",
       "      <th rowspan=\"5\" valign=\"top\">2022 Housing Data</th>\n",
       "      <th>7141</th>\n",
       "      <td>Condominium</td>\n",
       "      <td>7160339000</td>\n",
       "      <td>1912 W SALEM ST</td>\n",
       "      <td>COLLEGE HEIGHTS</td>\n",
       "      <td>13</td>\n",
       "      <td>5360</td>\n",
       "      <td>Low Rise 1-3 Stories</td>\n",
       "      <td>NaN</td>\n",
       "      <td>2.0</td>\n",
       "      <td>1974.0</td>\n",
       "      <td>10.0</td>\n",
       "      <td>1100.0</td>\n",
       "      <td>1</td>\n",
       "      <td>4.0</td>\n",
       "      <td>1</td>\n",
       "      <td>1</td>\n",
       "      <td>1</td>\n",
       "      <td>2022-03-11</td>\n",
       "      <td>125900.0</td>\n",
       "      <td>260642.0</td>\n",
       "    </tr>\n",
       "    <tr>\n",
       "      <th>7142</th>\n",
       "      <td>Condominium</td>\n",
       "      <td>7160351000</td>\n",
       "      <td>6316 S 20TH ST</td>\n",
       "      <td>COLLEGE HEIGHTS</td>\n",
       "      <td>13</td>\n",
       "      <td>5360</td>\n",
       "      <td>Low Rise 1-3 Stories</td>\n",
       "      <td>NaN</td>\n",
       "      <td>1.0</td>\n",
       "      <td>1974.0</td>\n",
       "      <td>5.0</td>\n",
       "      <td>1379.0</td>\n",
       "      <td>1</td>\n",
       "      <td>2.0</td>\n",
       "      <td>1</td>\n",
       "      <td>1</td>\n",
       "      <td>1</td>\n",
       "      <td>2022-10-28</td>\n",
       "      <td>150000.0</td>\n",
       "      <td>260654.0</td>\n",
       "    </tr>\n",
       "    <tr>\n",
       "      <th>7143</th>\n",
       "      <td>Condominium</td>\n",
       "      <td>7160365000</td>\n",
       "      <td>6376 S 20TH ST</td>\n",
       "      <td>COLLEGE HEIGHTS</td>\n",
       "      <td>13</td>\n",
       "      <td>5360</td>\n",
       "      <td>Low Rise 1-3 Stories</td>\n",
       "      <td>NaN</td>\n",
       "      <td>2.0</td>\n",
       "      <td>1974.0</td>\n",
       "      <td>10.0</td>\n",
       "      <td>1100.0</td>\n",
       "      <td>1</td>\n",
       "      <td>4.0</td>\n",
       "      <td>1</td>\n",
       "      <td>1</td>\n",
       "      <td>1</td>\n",
       "      <td>2022-03-15</td>\n",
       "      <td>130000.0</td>\n",
       "      <td>260668.0</td>\n",
       "    </tr>\n",
       "    <tr>\n",
       "      <th>7144</th>\n",
       "      <td>Condominium</td>\n",
       "      <td>7160366000</td>\n",
       "      <td>6378 S 20TH ST</td>\n",
       "      <td>COLLEGE HEIGHTS</td>\n",
       "      <td>13</td>\n",
       "      <td>5360</td>\n",
       "      <td>Low Rise 1-3 Stories</td>\n",
       "      <td>NaN</td>\n",
       "      <td>2.0</td>\n",
       "      <td>1974.0</td>\n",
       "      <td>5.0</td>\n",
       "      <td>1100.0</td>\n",
       "      <td>1</td>\n",
       "      <td>2.0</td>\n",
       "      <td>1</td>\n",
       "      <td>1</td>\n",
       "      <td>1</td>\n",
       "      <td>2022-12-30</td>\n",
       "      <td>123000.0</td>\n",
       "      <td>260669.0</td>\n",
       "    </tr>\n",
       "    <tr>\n",
       "      <th>7145</th>\n",
       "      <td>Condominium</td>\n",
       "      <td>7160375000</td>\n",
       "      <td>6354 S 20TH ST</td>\n",
       "      <td>COLLEGE HEIGHTS</td>\n",
       "      <td>13</td>\n",
       "      <td>5360</td>\n",
       "      <td>Low Rise 1-3 Stories</td>\n",
       "      <td>NaN</td>\n",
       "      <td>1.0</td>\n",
       "      <td>1974.0</td>\n",
       "      <td>5.0</td>\n",
       "      <td>1141.0</td>\n",
       "      <td>1</td>\n",
       "      <td>2.0</td>\n",
       "      <td>1</td>\n",
       "      <td>1</td>\n",
       "      <td>1</td>\n",
       "      <td>2022-07-08</td>\n",
       "      <td>157500.0</td>\n",
       "      <td>260678.0</td>\n",
       "    </tr>\n",
       "  </tbody>\n",
       "</table>\n",
       "<p>9312 rows × 20 columns</p>\n",
       "</div>"
      ],
      "text/plain": [
       "                           PropType      Taxkey                  Address  \\\n",
       "2002 Housing Data 0      Commercial  3230461110            2628 N 6TH ST   \n",
       "                  1      Commercial  3590192000       1363 N PROSPECT AV   \n",
       "                  2      Commercial  4161194000            617 S 94TH ST   \n",
       "                  3      Commercial  1719836000  3624 W SILVER SPRING DR   \n",
       "                  4      Commercial  3480290000         3830 W LISBON AV   \n",
       "...                             ...         ...                      ...   \n",
       "2022 Housing Data 7141  Condominium  7160339000          1912 W SALEM ST   \n",
       "                  7142  Condominium  7160351000           6316 S 20TH ST   \n",
       "                  7143  Condominium  7160365000           6376 S 20TH ST   \n",
       "                  7144  Condominium  7160366000           6378 S 20TH ST   \n",
       "                  7145  Condominium  7160375000           6354 S 20TH ST   \n",
       "\n",
       "                           CondoProject  District  Nbhd  \\\n",
       "2002 Housing Data 0                 NaN         6  6258   \n",
       "                  1                 NaN         3  6262   \n",
       "                  2                 NaN        10  6272   \n",
       "                  3                 NaN         1  6218   \n",
       "                  4                 NaN        15  6254   \n",
       "...                                 ...       ...   ...   \n",
       "2022 Housing Data 7141  COLLEGE HEIGHTS        13  5360   \n",
       "                  7142  COLLEGE HEIGHTS        13  5360   \n",
       "                  7143  COLLEGE HEIGHTS        13  5360   \n",
       "                  7144  COLLEGE HEIGHTS        13  5360   \n",
       "                  7145  COLLEGE HEIGHTS        13  5360   \n",
       "\n",
       "                                                                   Style  \\\n",
       "2002 Housing Data 0                                    Commercial Exempt   \n",
       "                  1                       Mansions With Commercial Usage   \n",
       "                  2                                     Service Building   \n",
       "                  3     Store Bldg - Multi Story (Store & Apt, Store & O   \n",
       "                  4     Store Bldg - Multi Story (Store & Apt, Store & O   \n",
       "...                                                                  ...   \n",
       "2022 Housing Data 7141                              Low Rise 1-3 Stories   \n",
       "                  7142                              Low Rise 1-3 Stories   \n",
       "                  7143                              Low Rise 1-3 Stories   \n",
       "                  7144                              Low Rise 1-3 Stories   \n",
       "                  7145                              Low Rise 1-3 Stories   \n",
       "\n",
       "                       Extwall  Stories  Year_Built  Nr_of_rms  Fin_sqft  \\\n",
       "2002 Housing Data 0        NaN      2.0      1880.0        0.0    1840.0   \n",
       "                  1        NaN      2.0      1876.0        0.0    6377.0   \n",
       "                  2        NaN      1.0      1954.0        0.0    5022.0   \n",
       "                  3        NaN      2.0      1955.0        0.0    6420.0   \n",
       "                  4        NaN      2.0      1909.0        0.0    5956.0   \n",
       "...                        ...      ...         ...        ...       ...   \n",
       "2022 Housing Data 7141     NaN      2.0      1974.0       10.0    1100.0   \n",
       "                  7142     NaN      1.0      1974.0        5.0    1379.0   \n",
       "                  7143     NaN      2.0      1974.0       10.0    1100.0   \n",
       "                  7144     NaN      2.0      1974.0        5.0    1100.0   \n",
       "                  7145     NaN      1.0      1974.0        5.0    1141.0   \n",
       "\n",
       "                        Units  Bdrms  Fbath  Hbath  Lotsize   Sale_date  \\\n",
       "2002 Housing Data 0         1    0.0      0      0    12750     2002-01   \n",
       "                  1         1    0.0      0      0    11840     2002-01   \n",
       "                  2         1    0.0      0      0     9700     2002-01   \n",
       "                  3         1    0.0      0      0     8792     2002-01   \n",
       "                  4         1    0.0      0      0     4840     2002-01   \n",
       "...                       ...    ...    ...    ...      ...         ...   \n",
       "2022 Housing Data 7141      1    4.0      1      1        1  2022-03-11   \n",
       "                  7142      1    2.0      1      1        1  2022-10-28   \n",
       "                  7143      1    4.0      1      1        1  2022-03-15   \n",
       "                  7144      1    2.0      1      1        1  2022-12-30   \n",
       "                  7145      1    2.0      1      1        1  2022-07-08   \n",
       "\n",
       "                        Sale_price  PropertyID  \n",
       "2002 Housing Data 0        15900.0         NaN  \n",
       "                  1       850000.0         NaN  \n",
       "                  2       119000.0         NaN  \n",
       "                  3       210000.0         NaN  \n",
       "                  4        48500.0         NaN  \n",
       "...                            ...         ...  \n",
       "2022 Housing Data 7141    125900.0    260642.0  \n",
       "                  7142    150000.0    260654.0  \n",
       "                  7143    130000.0    260668.0  \n",
       "                  7144    123000.0    260669.0  \n",
       "                  7145    157500.0    260678.0  \n",
       "\n",
       "[9312 rows x 20 columns]"
      ]
     },
     "execution_count": 73,
     "metadata": {},
     "output_type": "execute_result"
    }
   ],
   "source": [
    "full_df = pd.concat([data02, data12, data22], keys=['2002 Housing Data','2012 Housing Data','2022 Housing Data'])\n",
    "full_df"
   ]
  },
  {
   "cell_type": "markdown",
   "id": "cebba63c",
   "metadata": {},
   "source": [
    "There exists some unimportant columns with majority 'NaN' so I don't mind removing these columns from my analysis"
   ]
  },
  {
   "cell_type": "code",
   "execution_count": 74,
   "id": "33672e24",
   "metadata": {},
   "outputs": [],
   "source": [
    "full_df = full_df.drop(columns = 'CondoProject')"
   ]
  },
  {
   "cell_type": "code",
   "execution_count": 75,
   "id": "be490400",
   "metadata": {},
   "outputs": [],
   "source": [
    "full_df = full_df.drop(columns = 'Extwall')"
   ]
  },
  {
   "cell_type": "code",
   "execution_count": 77,
   "id": "d3037416",
   "metadata": {},
   "outputs": [],
   "source": [
    "full_df = full_df.drop(columns = 'PropertyID')"
   ]
  },
  {
   "cell_type": "code",
   "execution_count": 78,
   "id": "22b601fd",
   "metadata": {},
   "outputs": [
    {
     "data": {
      "text/html": [
       "<div>\n",
       "<style scoped>\n",
       "    .dataframe tbody tr th:only-of-type {\n",
       "        vertical-align: middle;\n",
       "    }\n",
       "\n",
       "    .dataframe tbody tr th {\n",
       "        vertical-align: top;\n",
       "    }\n",
       "\n",
       "    .dataframe thead th {\n",
       "        text-align: right;\n",
       "    }\n",
       "</style>\n",
       "<table border=\"1\" class=\"dataframe\">\n",
       "  <thead>\n",
       "    <tr style=\"text-align: right;\">\n",
       "      <th></th>\n",
       "      <th></th>\n",
       "      <th>PropType</th>\n",
       "      <th>Taxkey</th>\n",
       "      <th>Address</th>\n",
       "      <th>District</th>\n",
       "      <th>Nbhd</th>\n",
       "      <th>Style</th>\n",
       "      <th>Stories</th>\n",
       "      <th>Year_Built</th>\n",
       "      <th>Nr_of_rms</th>\n",
       "      <th>Fin_sqft</th>\n",
       "      <th>Units</th>\n",
       "      <th>Bdrms</th>\n",
       "      <th>Fbath</th>\n",
       "      <th>Hbath</th>\n",
       "      <th>Lotsize</th>\n",
       "      <th>Sale_date</th>\n",
       "      <th>Sale_price</th>\n",
       "    </tr>\n",
       "  </thead>\n",
       "  <tbody>\n",
       "    <tr>\n",
       "      <th rowspan=\"5\" valign=\"top\">2002 Housing Data</th>\n",
       "      <th>0</th>\n",
       "      <td>Commercial</td>\n",
       "      <td>3230461110</td>\n",
       "      <td>2628 N 6TH ST</td>\n",
       "      <td>6</td>\n",
       "      <td>6258</td>\n",
       "      <td>Commercial Exempt</td>\n",
       "      <td>2.0</td>\n",
       "      <td>1880.0</td>\n",
       "      <td>0.0</td>\n",
       "      <td>1840.0</td>\n",
       "      <td>1</td>\n",
       "      <td>0.0</td>\n",
       "      <td>0</td>\n",
       "      <td>0</td>\n",
       "      <td>12750</td>\n",
       "      <td>2002-01</td>\n",
       "      <td>15900.0</td>\n",
       "    </tr>\n",
       "    <tr>\n",
       "      <th>1</th>\n",
       "      <td>Commercial</td>\n",
       "      <td>3590192000</td>\n",
       "      <td>1363 N PROSPECT AV</td>\n",
       "      <td>3</td>\n",
       "      <td>6262</td>\n",
       "      <td>Mansions With Commercial Usage</td>\n",
       "      <td>2.0</td>\n",
       "      <td>1876.0</td>\n",
       "      <td>0.0</td>\n",
       "      <td>6377.0</td>\n",
       "      <td>1</td>\n",
       "      <td>0.0</td>\n",
       "      <td>0</td>\n",
       "      <td>0</td>\n",
       "      <td>11840</td>\n",
       "      <td>2002-01</td>\n",
       "      <td>850000.0</td>\n",
       "    </tr>\n",
       "    <tr>\n",
       "      <th>2</th>\n",
       "      <td>Commercial</td>\n",
       "      <td>4161194000</td>\n",
       "      <td>617 S 94TH ST</td>\n",
       "      <td>10</td>\n",
       "      <td>6272</td>\n",
       "      <td>Service Building</td>\n",
       "      <td>1.0</td>\n",
       "      <td>1954.0</td>\n",
       "      <td>0.0</td>\n",
       "      <td>5022.0</td>\n",
       "      <td>1</td>\n",
       "      <td>0.0</td>\n",
       "      <td>0</td>\n",
       "      <td>0</td>\n",
       "      <td>9700</td>\n",
       "      <td>2002-01</td>\n",
       "      <td>119000.0</td>\n",
       "    </tr>\n",
       "    <tr>\n",
       "      <th>3</th>\n",
       "      <td>Commercial</td>\n",
       "      <td>1719836000</td>\n",
       "      <td>3624 W SILVER SPRING DR</td>\n",
       "      <td>1</td>\n",
       "      <td>6218</td>\n",
       "      <td>Store Bldg - Multi Story (Store &amp; Apt, Store &amp; O</td>\n",
       "      <td>2.0</td>\n",
       "      <td>1955.0</td>\n",
       "      <td>0.0</td>\n",
       "      <td>6420.0</td>\n",
       "      <td>1</td>\n",
       "      <td>0.0</td>\n",
       "      <td>0</td>\n",
       "      <td>0</td>\n",
       "      <td>8792</td>\n",
       "      <td>2002-01</td>\n",
       "      <td>210000.0</td>\n",
       "    </tr>\n",
       "    <tr>\n",
       "      <th>4</th>\n",
       "      <td>Commercial</td>\n",
       "      <td>3480290000</td>\n",
       "      <td>3830 W LISBON AV</td>\n",
       "      <td>15</td>\n",
       "      <td>6254</td>\n",
       "      <td>Store Bldg - Multi Story (Store &amp; Apt, Store &amp; O</td>\n",
       "      <td>2.0</td>\n",
       "      <td>1909.0</td>\n",
       "      <td>0.0</td>\n",
       "      <td>5956.0</td>\n",
       "      <td>1</td>\n",
       "      <td>0.0</td>\n",
       "      <td>0</td>\n",
       "      <td>0</td>\n",
       "      <td>4840</td>\n",
       "      <td>2002-01</td>\n",
       "      <td>48500.0</td>\n",
       "    </tr>\n",
       "  </tbody>\n",
       "</table>\n",
       "</div>"
      ],
      "text/plain": [
       "                       PropType      Taxkey                  Address  \\\n",
       "2002 Housing Data 0  Commercial  3230461110            2628 N 6TH ST   \n",
       "                  1  Commercial  3590192000       1363 N PROSPECT AV   \n",
       "                  2  Commercial  4161194000            617 S 94TH ST   \n",
       "                  3  Commercial  1719836000  3624 W SILVER SPRING DR   \n",
       "                  4  Commercial  3480290000         3830 W LISBON AV   \n",
       "\n",
       "                     District  Nbhd  \\\n",
       "2002 Housing Data 0         6  6258   \n",
       "                  1         3  6262   \n",
       "                  2        10  6272   \n",
       "                  3         1  6218   \n",
       "                  4        15  6254   \n",
       "\n",
       "                                                                Style  \\\n",
       "2002 Housing Data 0                                 Commercial Exempt   \n",
       "                  1                    Mansions With Commercial Usage   \n",
       "                  2                                  Service Building   \n",
       "                  3  Store Bldg - Multi Story (Store & Apt, Store & O   \n",
       "                  4  Store Bldg - Multi Story (Store & Apt, Store & O   \n",
       "\n",
       "                     Stories  Year_Built  Nr_of_rms  Fin_sqft  Units  Bdrms  \\\n",
       "2002 Housing Data 0      2.0      1880.0        0.0    1840.0      1    0.0   \n",
       "                  1      2.0      1876.0        0.0    6377.0      1    0.0   \n",
       "                  2      1.0      1954.0        0.0    5022.0      1    0.0   \n",
       "                  3      2.0      1955.0        0.0    6420.0      1    0.0   \n",
       "                  4      2.0      1909.0        0.0    5956.0      1    0.0   \n",
       "\n",
       "                     Fbath  Hbath  Lotsize Sale_date  Sale_price  \n",
       "2002 Housing Data 0      0      0    12750   2002-01     15900.0  \n",
       "                  1      0      0    11840   2002-01    850000.0  \n",
       "                  2      0      0     9700   2002-01    119000.0  \n",
       "                  3      0      0     8792   2002-01    210000.0  \n",
       "                  4      0      0     4840   2002-01     48500.0  "
      ]
     },
     "execution_count": 78,
     "metadata": {},
     "output_type": "execute_result"
    }
   ],
   "source": [
    "full_df.head()"
   ]
  },
  {
   "cell_type": "markdown",
   "id": "1c29c491",
   "metadata": {},
   "source": [
    "## And so begins the analysis plan!"
   ]
  },
  {
   "cell_type": "markdown",
   "id": "191f13b5",
   "metadata": {},
   "source": [
    "The first thing I want to demonstrate is the distribution of property types with each year."
   ]
  },
  {
   "cell_type": "code",
   "execution_count": 15,
   "id": "7cc7a0b1",
   "metadata": {},
   "outputs": [
    {
     "data": {
      "text/plain": [
       "Index(['Commercial', 'Lg Apartment', 'Residential', 'Vacant Land'], dtype='object', name='PropType')"
      ]
     },
     "execution_count": 15,
     "metadata": {},
     "output_type": "execute_result"
    }
   ],
   "source": [
    "PropType = data02.groupby('PropType').count()['Taxkey']\n",
    "PropType.index"
   ]
  },
  {
   "cell_type": "code",
   "execution_count": 16,
   "id": "42ee4691",
   "metadata": {
    "scrolled": false
   },
   "outputs": [
    {
     "data": {
      "image/png": "[encoded data removed]",
      "text/plain": [
       "<Figure size 640x480 with 1 Axes>"
      ]
     },
     "metadata": {},
     "output_type": "display_data"
    }
   ],
   "source": [
    "fig1, ax1 = plt.subplots()\n",
    "\n",
    "ax1.pie(PropType.values,labels=PropType.index)\n",
    "\n",
    "plt.show()"
   ]
  },
  {
   "cell_type": "markdown",
   "id": "4fef91f2",
   "metadata": {},
   "source": [
    "2002 has a large portion of commercial and also vacant land which creates a spread for sale prices"
   ]
  },
  {
   "cell_type": "code",
   "execution_count": 17,
   "id": "64cace36",
   "metadata": {},
   "outputs": [
    {
     "data": {
      "text/plain": [
       "Index(['Commercial', 'Condominium', 'Lg Apartment', 'Residential',\n",
       "       'Vacant Land'],\n",
       "      dtype='object', name='PropType')"
      ]
     },
     "execution_count": 17,
     "metadata": {},
     "output_type": "execute_result"
    }
   ],
   "source": [
    "PropType12 = data12.groupby('PropType').count()['Taxkey']\n",
    "PropType12.index"
   ]
  },
  {
   "cell_type": "code",
   "execution_count": 18,
   "id": "c3bdcd40",
   "metadata": {
    "scrolled": false
   },
   "outputs": [
    {
     "data": {
      "image/png": "[encoded data removed]",
      "text/plain": [
       "<Figure size 640x480 with 1 Axes>"
      ]
     },
     "metadata": {},
     "output_type": "display_data"
    }
   ],
   "source": [
    "fig2, ax2 = plt.subplots()\n",
    "\n",
    "ax2.pie(PropType12.values,labels=PropType12.index)\n",
    "\n",
    "plt.show()"
   ]
  },
  {
   "cell_type": "markdown",
   "id": "8d007c6f",
   "metadata": {},
   "source": [
    "This graph is interesting becuase there is way less commercial and vacant land but way more condos!"
   ]
  },
  {
   "cell_type": "code",
   "execution_count": 19,
   "id": "f08aaec9",
   "metadata": {},
   "outputs": [
    {
     "data": {
      "text/plain": [
       "Index(['Commercial', 'Condominium', 'Exempt', 'Lg Apartment', 'Manufacturing',\n",
       "       'Residential'],\n",
       "      dtype='object', name='PropType')"
      ]
     },
     "execution_count": 19,
     "metadata": {},
     "output_type": "execute_result"
    }
   ],
   "source": [
    "PropType22 = data22.groupby('PropType').count()['Taxkey']\n",
    "PropType22.index"
   ]
  },
  {
   "cell_type": "code",
   "execution_count": 20,
   "id": "d490c99a",
   "metadata": {},
   "outputs": [
    {
     "data": {
      "image/png": "[encoded data removed]",
      "text/plain": [
       "<Figure size 640x480 with 1 Axes>"
      ]
     },
     "metadata": {},
     "output_type": "display_data"
    }
   ],
   "source": [
    "fig3, ax3 = plt.subplots()\n",
    "\n",
    "ax3.pie(PropType22.values,labels=PropType22.index)\n",
    "\n",
    "plt.show()"
   ]
  },
  {
   "cell_type": "markdown",
   "id": "bf9a6762",
   "metadata": {},
   "source": [
    "There are some additional categories that don't account for many, but the condo is the secondary category"
   ]
  },
  {
   "cell_type": "markdown",
   "id": "5a66d67c",
   "metadata": {},
   "source": [
    "This graph below is comparing the different districts and how often a house is sold. "
   ]
  },
  {
   "cell_type": "code",
   "execution_count": 48,
   "id": "7a28931e",
   "metadata": {},
   "outputs": [
    {
     "data": {
      "image/png": "[encoded data removed]",
      "text/plain": [
       "<Figure size 640x480 with 3 Axes>"
      ]
     },
     "metadata": {},
     "output_type": "display_data"
    }
   ],
   "source": [
    "fig4, ax4 = plt.subplots(1,3)\n",
    "\n",
    "ax4[0].hist(data02['District'])\n",
    "ax4[1].hist(data12['District'])\n",
    "ax4[2].hist(data22['District'])\n",
    "\n",
    "ax4[0].set_ylim(bottom =0,top=200)\n",
    "ax4[1].set_ylim(bottom =0,top=1200)\n",
    "ax4[2].set_ylim(bottom =0,top=1200)\n",
    "\n",
    "plt.show()"
   ]
  },
  {
   "cell_type": "markdown",
   "id": "c56e2564",
   "metadata": {},
   "source": [
    "The 2002 data is significantly zoomed in as to show the trends even with little data. It is intersting that, even with the increase of sales overall between the years, the districts still maintain ratios. "
   ]
  },
  {
   "cell_type": "code",
   "execution_count": 21,
   "id": "6042ca33",
   "metadata": {},
   "outputs": [
    {
     "data": {
      "text/plain": [
       "3750000.0"
      ]
     },
     "execution_count": 21,
     "metadata": {},
     "output_type": "execute_result"
    }
   ],
   "source": [
    "data02['Sale_price'].describe()['max']"
   ]
  },
  {
   "cell_type": "code",
   "execution_count": 22,
   "id": "4f1abb4d",
   "metadata": {},
   "outputs": [
    {
     "data": {
      "text/plain": [
       "40877000.0"
      ]
     },
     "execution_count": 22,
     "metadata": {},
     "output_type": "execute_result"
    }
   ],
   "source": [
    "data12['Sale_price'].describe()['max']"
   ]
  },
  {
   "cell_type": "code",
   "execution_count": 23,
   "id": "45c9991f",
   "metadata": {},
   "outputs": [
    {
     "data": {
      "text/plain": [
       "21850000.0"
      ]
     },
     "execution_count": 23,
     "metadata": {},
     "output_type": "execute_result"
    }
   ],
   "source": [
    "data22['Sale_price'].describe()['max']"
   ]
  },
  {
   "cell_type": "markdown",
   "id": "4329a82a",
   "metadata": {},
   "source": [
    "2012 has the highest Sale price of the 3 different years which is interesting because 2022 had a large sample size and was 10 years later"
   ]
  },
  {
   "cell_type": "code",
   "execution_count": 24,
   "id": "1bcc60f8",
   "metadata": {},
   "outputs": [
    {
     "data": {
      "text/plain": [
       "277875.68823529413"
      ]
     },
     "execution_count": 24,
     "metadata": {},
     "output_type": "execute_result"
    }
   ],
   "source": [
    "data02['Sale_price'].describe()['mean']"
   ]
  },
  {
   "cell_type": "code",
   "execution_count": 25,
   "id": "fadd4298",
   "metadata": {},
   "outputs": [
    {
     "data": {
      "text/plain": [
       "204349.92034068136"
      ]
     },
     "execution_count": 25,
     "metadata": {},
     "output_type": "execute_result"
    }
   ],
   "source": [
    "data12['Sale_price'].describe()['mean']"
   ]
  },
  {
   "cell_type": "code",
   "execution_count": 26,
   "id": "974f18ab",
   "metadata": {},
   "outputs": [
    {
     "data": {
      "text/plain": [
       "271544.9654352085"
      ]
     },
     "execution_count": 26,
     "metadata": {},
     "output_type": "execute_result"
    }
   ],
   "source": [
    "data22['Sale_price'].describe()['mean']"
   ]
  },
  {
   "cell_type": "markdown",
   "id": "7701df0a",
   "metadata": {},
   "source": [
    "While it is surprising that 2002 has the highest mean sale price, it makes sense when looking again at the pie chart that says that 2002 had majority commercial properties."
   ]
  },
  {
   "cell_type": "code",
   "execution_count": 28,
   "id": "acc6a855",
   "metadata": {
    "scrolled": true
   },
   "outputs": [
    {
     "data": {
      "image/png": "[encoded data removed]",
      "text/plain": [
       "<Figure size 640x480 with 1 Axes>"
      ]
     },
     "metadata": {},
     "output_type": "display_data"
    }
   ],
   "source": [
    "fig5, ax5 = plt.subplots()\n",
    "\n",
    "ax5.boxplot(data02['Sale_price'], positions = [1])\n",
    "ax5.boxplot(data12['Sale_price'], positions = [2])\n",
    "ax5.boxplot(data22['Sale_price'], positions = [3])\n",
    "\n",
    "\n",
    "\n",
    "plt.show()"
   ]
  },
  {
   "cell_type": "markdown",
   "id": "0585db00",
   "metadata": {},
   "source": [
    "This graph shows why 2012 had the highest Sale price. If the greatest point in 2012 were omitted, the range would make sense to show that as the year increases, so does the Sale price - as 2022 has a greater spread"
   ]
  },
  {
   "cell_type": "code",
   "execution_count": 30,
   "id": "11982ecf",
   "metadata": {},
   "outputs": [],
   "source": [
    "data2002 = data02[data02['Year_Built']!=0]\n",
    "data2012 = data12[data12['Year_Built']!=0]\n",
    "data2022 = data22[data22['Year_Built']!=0]"
   ]
  },
  {
   "cell_type": "code",
   "execution_count": 32,
   "id": "06259672",
   "metadata": {
    "scrolled": false
   },
   "outputs": [
    {
     "data": {
      "image/png": "[encoded data removed]",
      "text/plain": [
       "<Figure size 640x480 with 1 Axes>"
      ]
     },
     "metadata": {},
     "output_type": "display_data"
    }
   ],
   "source": [
    "fig6, ax6 = plt.subplots()\n",
    "\n",
    "ax6.boxplot(data2002['Year_Built'], positions = [1])\n",
    "ax6.boxplot(data2012['Year_Built'], positions = [2])\n",
    "ax6.boxplot(data2022['Year_Built'].dropna(), positions = [3])\n",
    "\n",
    "plt.show()"
   ]
  },
  {
   "cell_type": "markdown",
   "id": "19bf3d3a",
   "metadata": {},
   "source": [
    "I am curious to see if there are Year_Built years ahead of when the property is sold... "
   ]
  },
  {
   "cell_type": "code",
   "execution_count": 36,
   "id": "80a47f07",
   "metadata": {
    "scrolled": false
   },
   "outputs": [
    {
     "data": {
      "text/plain": [
       "2002.0"
      ]
     },
     "execution_count": 36,
     "metadata": {},
     "output_type": "execute_result"
    }
   ],
   "source": [
    "data2002['Year_Built'].describe()['max']"
   ]
  },
  {
   "cell_type": "code",
   "execution_count": 34,
   "id": "49802e7f",
   "metadata": {
    "scrolled": true
   },
   "outputs": [
    {
     "data": {
      "text/plain": [
       "2013.0"
      ]
     },
     "execution_count": 34,
     "metadata": {},
     "output_type": "execute_result"
    }
   ],
   "source": [
    "data2012['Year_Built'].describe()['max']"
   ]
  },
  {
   "cell_type": "code",
   "execution_count": 35,
   "id": "039e6009",
   "metadata": {
    "scrolled": true
   },
   "outputs": [
    {
     "data": {
      "text/plain": [
       "2022.0"
      ]
     },
     "execution_count": 35,
     "metadata": {},
     "output_type": "execute_result"
    }
   ],
   "source": [
    "data2022['Year_Built'].describe()['max']"
   ]
  },
  {
   "cell_type": "markdown",
   "id": "ce1ffcd8",
   "metadata": {},
   "source": [
    "At first thought, it seems weird that there is a Year_built date ahead of when the property is sold in the 2012 data. But, it makes sense because there are times when a sale closes before the property is finished."
   ]
  },
  {
   "cell_type": "markdown",
   "id": "5a527172",
   "metadata": {},
   "source": [
    "Upon first attempting the barplot, there was an issue with the 2022 data missing.."
   ]
  },
  {
   "cell_type": "code",
   "execution_count": 37,
   "id": "5b839111",
   "metadata": {},
   "outputs": [
    {
     "data": {
      "text/html": [
       "<div>\n",
       "<style scoped>\n",
       "    .dataframe tbody tr th:only-of-type {\n",
       "        vertical-align: middle;\n",
       "    }\n",
       "\n",
       "    .dataframe tbody tr th {\n",
       "        vertical-align: top;\n",
       "    }\n",
       "\n",
       "    .dataframe thead th {\n",
       "        text-align: right;\n",
       "    }\n",
       "</style>\n",
       "<table border=\"1\" class=\"dataframe\">\n",
       "  <thead>\n",
       "    <tr style=\"text-align: right;\">\n",
       "      <th></th>\n",
       "      <th>PropertyID</th>\n",
       "      <th>PropType</th>\n",
       "      <th>Taxkey</th>\n",
       "      <th>Address</th>\n",
       "      <th>CondoProject</th>\n",
       "      <th>District</th>\n",
       "      <th>Nbhd</th>\n",
       "      <th>Style</th>\n",
       "      <th>Extwall</th>\n",
       "      <th>Stories</th>\n",
       "      <th>Year_Built</th>\n",
       "      <th>Nr_of_rms</th>\n",
       "      <th>Fin_sqft</th>\n",
       "      <th>Units</th>\n",
       "      <th>Bdrms</th>\n",
       "      <th>Fbath</th>\n",
       "      <th>Hbath</th>\n",
       "      <th>Lotsize</th>\n",
       "      <th>Sale_date</th>\n",
       "      <th>Sale_price</th>\n",
       "    </tr>\n",
       "  </thead>\n",
       "  <tbody>\n",
       "    <tr>\n",
       "      <th>2</th>\n",
       "      <td>98508</td>\n",
       "      <td>Residential</td>\n",
       "      <td>49980110</td>\n",
       "      <td>9327 N SWAN RD</td>\n",
       "      <td>NaN</td>\n",
       "      <td>9</td>\n",
       "      <td>40</td>\n",
       "      <td>NaN</td>\n",
       "      <td>NaN</td>\n",
       "      <td>NaN</td>\n",
       "      <td>NaN</td>\n",
       "      <td>NaN</td>\n",
       "      <td>NaN</td>\n",
       "      <td>0</td>\n",
       "      <td>NaN</td>\n",
       "      <td>0</td>\n",
       "      <td>0</td>\n",
       "      <td>1341648</td>\n",
       "      <td>2022-01-07</td>\n",
       "      <td>800000.0</td>\n",
       "    </tr>\n",
       "    <tr>\n",
       "      <th>194</th>\n",
       "      <td>102602</td>\n",
       "      <td>Residential</td>\n",
       "      <td>740232000</td>\n",
       "      <td>8201 N 111TH ST</td>\n",
       "      <td>NaN</td>\n",
       "      <td>9</td>\n",
       "      <td>240</td>\n",
       "      <td>NaN</td>\n",
       "      <td>NaN</td>\n",
       "      <td>NaN</td>\n",
       "      <td>NaN</td>\n",
       "      <td>NaN</td>\n",
       "      <td>NaN</td>\n",
       "      <td>0</td>\n",
       "      <td>NaN</td>\n",
       "      <td>0</td>\n",
       "      <td>0</td>\n",
       "      <td>15427</td>\n",
       "      <td>2022-05-25</td>\n",
       "      <td>57500.0</td>\n",
       "    </tr>\n",
       "    <tr>\n",
       "      <th>225</th>\n",
       "      <td>103040</td>\n",
       "      <td>Manufacturing</td>\n",
       "      <td>810202100</td>\n",
       "      <td>8219 W BRADLEY RD</td>\n",
       "      <td>NaN</td>\n",
       "      <td>9</td>\n",
       "      <td>6300</td>\n",
       "      <td>Special - to use this code see supv.</td>\n",
       "      <td>NaN</td>\n",
       "      <td>NaN</td>\n",
       "      <td>NaN</td>\n",
       "      <td>NaN</td>\n",
       "      <td>NaN</td>\n",
       "      <td>0</td>\n",
       "      <td>NaN</td>\n",
       "      <td>0</td>\n",
       "      <td>0</td>\n",
       "      <td>0</td>\n",
       "      <td>2022-10-06</td>\n",
       "      <td>820000.0</td>\n",
       "    </tr>\n",
       "    <tr>\n",
       "      <th>525</th>\n",
       "      <td>110027</td>\n",
       "      <td>Commercial</td>\n",
       "      <td>1439989212</td>\n",
       "      <td>8526 W MILL RD</td>\n",
       "      <td>NaN</td>\n",
       "      <td>9</td>\n",
       "      <td>6449</td>\n",
       "      <td>Licensed Res Care Facility,  Halfway House, etc.</td>\n",
       "      <td>NaN</td>\n",
       "      <td>NaN</td>\n",
       "      <td>NaN</td>\n",
       "      <td>NaN</td>\n",
       "      <td>17095.0</td>\n",
       "      <td>41</td>\n",
       "      <td>NaN</td>\n",
       "      <td>0</td>\n",
       "      <td>0</td>\n",
       "      <td>74618</td>\n",
       "      <td>2022-06-10</td>\n",
       "      <td>1156200.0</td>\n",
       "    </tr>\n",
       "    <tr>\n",
       "      <th>1771</th>\n",
       "      <td>135165</td>\n",
       "      <td>Manufacturing</td>\n",
       "      <td>2309997000</td>\n",
       "      <td>3025 W ATKINSON AV</td>\n",
       "      <td>NaN</td>\n",
       "      <td>1</td>\n",
       "      <td>6300</td>\n",
       "      <td>Special - to use this code see supv.</td>\n",
       "      <td>NaN</td>\n",
       "      <td>NaN</td>\n",
       "      <td>NaN</td>\n",
       "      <td>NaN</td>\n",
       "      <td>NaN</td>\n",
       "      <td>0</td>\n",
       "      <td>NaN</td>\n",
       "      <td>0</td>\n",
       "      <td>0</td>\n",
       "      <td>0</td>\n",
       "      <td>2022-09-30</td>\n",
       "      <td>320000.0</td>\n",
       "    </tr>\n",
       "    <tr>\n",
       "      <th>1938</th>\n",
       "      <td>139550</td>\n",
       "      <td>Exempt</td>\n",
       "      <td>2490008100</td>\n",
       "      <td>5600 W FOND DU LAC AV</td>\n",
       "      <td>NaN</td>\n",
       "      <td>7</td>\n",
       "      <td>24910</td>\n",
       "      <td>Commercial Exempt</td>\n",
       "      <td>NaN</td>\n",
       "      <td>NaN</td>\n",
       "      <td>NaN</td>\n",
       "      <td>NaN</td>\n",
       "      <td>NaN</td>\n",
       "      <td>0</td>\n",
       "      <td>NaN</td>\n",
       "      <td>0</td>\n",
       "      <td>0</td>\n",
       "      <td>0</td>\n",
       "      <td>2022-09-09</td>\n",
       "      <td>225000.0</td>\n",
       "    </tr>\n",
       "    <tr>\n",
       "      <th>3387</th>\n",
       "      <td>172821</td>\n",
       "      <td>Residential</td>\n",
       "      <td>3141154000</td>\n",
       "      <td>3063 N HOLTON ST</td>\n",
       "      <td>NaN</td>\n",
       "      <td>6</td>\n",
       "      <td>2930</td>\n",
       "      <td>NaN</td>\n",
       "      <td>NaN</td>\n",
       "      <td>NaN</td>\n",
       "      <td>NaN</td>\n",
       "      <td>NaN</td>\n",
       "      <td>NaN</td>\n",
       "      <td>0</td>\n",
       "      <td>NaN</td>\n",
       "      <td>0</td>\n",
       "      <td>0</td>\n",
       "      <td>3136</td>\n",
       "      <td>2022-04-22</td>\n",
       "      <td>10000.0</td>\n",
       "    </tr>\n",
       "    <tr>\n",
       "      <th>3537</th>\n",
       "      <td>175501</td>\n",
       "      <td>Residential</td>\n",
       "      <td>3200512000</td>\n",
       "      <td>2626-2628 N BARTLETT AV</td>\n",
       "      <td>NaN</td>\n",
       "      <td>3</td>\n",
       "      <td>3190</td>\n",
       "      <td>NaN</td>\n",
       "      <td>NaN</td>\n",
       "      <td>NaN</td>\n",
       "      <td>NaN</td>\n",
       "      <td>NaN</td>\n",
       "      <td>NaN</td>\n",
       "      <td>0</td>\n",
       "      <td>NaN</td>\n",
       "      <td>0</td>\n",
       "      <td>0</td>\n",
       "      <td>3600</td>\n",
       "      <td>2022-08-31</td>\n",
       "      <td>75000.0</td>\n",
       "    </tr>\n",
       "    <tr>\n",
       "      <th>3620</th>\n",
       "      <td>177302</td>\n",
       "      <td>Commercial</td>\n",
       "      <td>3220902100</td>\n",
       "      <td>2669-2671 N MARTIN L KING JR DR</td>\n",
       "      <td>NaN</td>\n",
       "      <td>6</td>\n",
       "      <td>6258</td>\n",
       "      <td>Office Building - Multi Story ( Ofc &amp; Apt)</td>\n",
       "      <td>NaN</td>\n",
       "      <td>NaN</td>\n",
       "      <td>NaN</td>\n",
       "      <td>NaN</td>\n",
       "      <td>0.0</td>\n",
       "      <td>1</td>\n",
       "      <td>NaN</td>\n",
       "      <td>0</td>\n",
       "      <td>0</td>\n",
       "      <td>10500</td>\n",
       "      <td>2022-01-20</td>\n",
       "      <td>347000.0</td>\n",
       "    </tr>\n",
       "    <tr>\n",
       "      <th>4835</th>\n",
       "      <td>205735</td>\n",
       "      <td>Commercial</td>\n",
       "      <td>4190732000</td>\n",
       "      <td>7225 W MAIN ST</td>\n",
       "      <td>NaN</td>\n",
       "      <td>10</td>\n",
       "      <td>6272</td>\n",
       "      <td>Parking Lot</td>\n",
       "      <td>NaN</td>\n",
       "      <td>NaN</td>\n",
       "      <td>NaN</td>\n",
       "      <td>NaN</td>\n",
       "      <td>0.0</td>\n",
       "      <td>300</td>\n",
       "      <td>NaN</td>\n",
       "      <td>0</td>\n",
       "      <td>0</td>\n",
       "      <td>141352</td>\n",
       "      <td>2022-09-13</td>\n",
       "      <td>850000.0</td>\n",
       "    </tr>\n",
       "    <tr>\n",
       "      <th>4876</th>\n",
       "      <td>206777</td>\n",
       "      <td>Manufacturing</td>\n",
       "      <td>4240321000</td>\n",
       "      <td>185 S 33RD CT</td>\n",
       "      <td>NaN</td>\n",
       "      <td>8</td>\n",
       "      <td>6300</td>\n",
       "      <td>Commercial Exempt</td>\n",
       "      <td>NaN</td>\n",
       "      <td>NaN</td>\n",
       "      <td>NaN</td>\n",
       "      <td>NaN</td>\n",
       "      <td>0.0</td>\n",
       "      <td>1</td>\n",
       "      <td>NaN</td>\n",
       "      <td>0</td>\n",
       "      <td>0</td>\n",
       "      <td>0</td>\n",
       "      <td>2022-04-04</td>\n",
       "      <td>7450000.0</td>\n",
       "    </tr>\n",
       "  </tbody>\n",
       "</table>\n",
       "</div>"
      ],
      "text/plain": [
       "      PropertyID       PropType      Taxkey                          Address  \\\n",
       "2          98508    Residential    49980110                   9327 N SWAN RD   \n",
       "194       102602    Residential   740232000                  8201 N 111TH ST   \n",
       "225       103040  Manufacturing   810202100                8219 W BRADLEY RD   \n",
       "525       110027     Commercial  1439989212                   8526 W MILL RD   \n",
       "1771      135165  Manufacturing  2309997000               3025 W ATKINSON AV   \n",
       "1938      139550         Exempt  2490008100            5600 W FOND DU LAC AV   \n",
       "3387      172821    Residential  3141154000                 3063 N HOLTON ST   \n",
       "3537      175501    Residential  3200512000          2626-2628 N BARTLETT AV   \n",
       "3620      177302     Commercial  3220902100  2669-2671 N MARTIN L KING JR DR   \n",
       "4835      205735     Commercial  4190732000                   7225 W MAIN ST   \n",
       "4876      206777  Manufacturing  4240321000                    185 S 33RD CT   \n",
       "\n",
       "     CondoProject  District   Nbhd  \\\n",
       "2             NaN         9     40   \n",
       "194           NaN         9    240   \n",
       "225           NaN         9   6300   \n",
       "525           NaN         9   6449   \n",
       "1771          NaN         1   6300   \n",
       "1938          NaN         7  24910   \n",
       "3387          NaN         6   2930   \n",
       "3537          NaN         3   3190   \n",
       "3620          NaN         6   6258   \n",
       "4835          NaN        10   6272   \n",
       "4876          NaN         8   6300   \n",
       "\n",
       "                                                 Style Extwall  Stories  \\\n",
       "2                                                  NaN     NaN      NaN   \n",
       "194                                                NaN     NaN      NaN   \n",
       "225               Special - to use this code see supv.     NaN      NaN   \n",
       "525   Licensed Res Care Facility,  Halfway House, etc.     NaN      NaN   \n",
       "1771              Special - to use this code see supv.     NaN      NaN   \n",
       "1938                                 Commercial Exempt     NaN      NaN   \n",
       "3387                                               NaN     NaN      NaN   \n",
       "3537                                               NaN     NaN      NaN   \n",
       "3620        Office Building - Multi Story ( Ofc & Apt)     NaN      NaN   \n",
       "4835                                       Parking Lot     NaN      NaN   \n",
       "4876                                 Commercial Exempt     NaN      NaN   \n",
       "\n",
       "      Year_Built  Nr_of_rms  Fin_sqft  Units  Bdrms  Fbath  Hbath  Lotsize  \\\n",
       "2            NaN        NaN       NaN      0    NaN      0      0  1341648   \n",
       "194          NaN        NaN       NaN      0    NaN      0      0    15427   \n",
       "225          NaN        NaN       NaN      0    NaN      0      0        0   \n",
       "525          NaN        NaN   17095.0     41    NaN      0      0    74618   \n",
       "1771         NaN        NaN       NaN      0    NaN      0      0        0   \n",
       "1938         NaN        NaN       NaN      0    NaN      0      0        0   \n",
       "3387         NaN        NaN       NaN      0    NaN      0      0     3136   \n",
       "3537         NaN        NaN       NaN      0    NaN      0      0     3600   \n",
       "3620         NaN        NaN       0.0      1    NaN      0      0    10500   \n",
       "4835         NaN        NaN       0.0    300    NaN      0      0   141352   \n",
       "4876         NaN        NaN       0.0      1    NaN      0      0        0   \n",
       "\n",
       "       Sale_date  Sale_price  \n",
       "2     2022-01-07    800000.0  \n",
       "194   2022-05-25     57500.0  \n",
       "225   2022-10-06    820000.0  \n",
       "525   2022-06-10   1156200.0  \n",
       "1771  2022-09-30    320000.0  \n",
       "1938  2022-09-09    225000.0  \n",
       "3387  2022-04-22     10000.0  \n",
       "3537  2022-08-31     75000.0  \n",
       "3620  2022-01-20    347000.0  \n",
       "4835  2022-09-13    850000.0  \n",
       "4876  2022-04-04   7450000.0  "
      ]
     },
     "execution_count": 37,
     "metadata": {},
     "output_type": "execute_result"
    }
   ],
   "source": [
    "data2022[data2022['Year_Built'].isna()]"
   ]
  },
  {
   "cell_type": "markdown",
   "id": "1cf71bc1",
   "metadata": {},
   "source": [
    "So, why not take a look at some of the addresses as they currently are?"
   ]
  },
  {
   "cell_type": "markdown",
   "id": "630eeea2",
   "metadata": {},
   "source": [
    "![9327_N_SWAN_RD.png](attachment:9327_N_SWAN_RD.png)"
   ]
  },
  {
   "cell_type": "markdown",
   "id": "c8867bed",
   "metadata": {},
   "source": [
    "This property is obviously a grass plot, so it can't have a year built!"
   ]
  },
  {
   "cell_type": "markdown",
   "id": "a65ea15a",
   "metadata": {},
   "source": [
    "![8526_W_Mill_Rd.png](attachment:8526_W_Mill_Rd.png)"
   ]
  },
  {
   "cell_type": "markdown",
   "id": "8083930d",
   "metadata": {},
   "source": [
    "This property, however, was clearly built sometime prior to 2007 - so it could be a problem with data recording or some of them could be empty plots. With the lack of data across the board, it is hard to assume one way or the other."
   ]
  },
  {
   "cell_type": "markdown",
   "id": "b7afcb55",
   "metadata": {},
   "source": [
    "For the next graph, I wanted to compare Lot Size versus Finished Sq. Ft."
   ]
  },
  {
   "cell_type": "code",
   "execution_count": 50,
   "id": "7e6b0aaa",
   "metadata": {
    "scrolled": true
   },
   "outputs": [
    {
     "data": {
      "image/png": "[encoded data removed]",
      "text/plain": [
       "<Figure size 640x480 with 1 Axes>"
      ]
     },
     "metadata": {},
     "output_type": "display_data"
    }
   ],
   "source": [
    "fig7, ax7 = plt.subplots()\n",
    "ax7.scatter(x = data02['Lotsize'], \n",
    "            y = data02['Fin_sqft'],\n",
    "            label = '2002 Data', color = 'purple', \n",
    "            marker = '^', alpha = .4)\n",
    "ax7.scatter(x = data12['Lotsize'],\n",
    "           y = data12['Fin_sqft'], \n",
    "            label = '2012 Data', color = 'blue', \n",
    "            marker = 's', alpha = .4)\n",
    "ax7.scatter(x = data22['Lotsize'],\n",
    "           y = data22['Fin_sqft'], \n",
    "            label = '2022 Data', color = 'orange', \n",
    "            marker = 'o', alpha = .2)\n",
    "\n",
    "ax7.set_xlabel('Lotsize')\n",
    "ax7.set_ylabel('Fin_sqft')\n",
    "\n",
    "ax7.set_xlim(left=0,right=200000)\n",
    "ax7.set_ylim(bottom =0,top=200000)\n",
    "\n",
    "ax7.set_title('Relationship Between\\nLot Size and Finished Sq. Ft. Across 20 Years')\n",
    "ax7.legend()\n",
    "\n",
    "plt.show()"
   ]
  },
  {
   "cell_type": "markdown",
   "id": "6ab2c7dd",
   "metadata": {},
   "source": [
    "I wanted to adjust the x and y limits to show a zoomed in look because these data points are clumped in the bottom left but I feel as though this demonstrates the slightly swayed ratio with finished sq ft and lot size while also show the cases where the lot size is 0 and the finished sq ft is the whole property. I like this plot but I want to see more.."
   ]
  },
  {
   "cell_type": "code",
   "execution_count": 60,
   "id": "38e6cc28",
   "metadata": {},
   "outputs": [
    {
     "data": {
      "image/png": "[encoded data removed]",
      "text/plain": [
       "<Figure size 640x480 with 1 Axes>"
      ]
     },
     "metadata": {},
     "output_type": "display_data"
    }
   ],
   "source": [
    "fig8, ax8 = plt.subplots()\n",
    "ax8.scatter(x = data02['Lotsize'], \n",
    "            y = data02['Fin_sqft'],\n",
    "            label = '2002 Data', color = 'purple', \n",
    "            marker = '^', alpha = .4)\n",
    "ax8.scatter(x = data12['Lotsize'],\n",
    "           y = data12['Fin_sqft'], \n",
    "            label = '2012 Data', color = 'blue', \n",
    "            marker = 's', alpha = .4)\n",
    "ax8.scatter(x = data22['Lotsize'],\n",
    "           y = data22['Fin_sqft'], \n",
    "            label = '2022 Data', color = 'orange', \n",
    "            marker = 'o', alpha = .2)\n",
    "\n",
    "ax8.set_xlabel('Lotsize')\n",
    "ax8.set_ylabel('Fin_sqft')\n",
    "\n",
    "ax8.set_xlim(left=0,right=12000)\n",
    "ax8.set_ylim(bottom =0,top=12000)\n",
    "\n",
    "ax8.set_title('Relationship Between\\nLot Size and Finished Sq. Ft. Across 20 Years')\n",
    "ax8.legend()\n",
    "\n",
    "plt.show()"
   ]
  },
  {
   "cell_type": "markdown",
   "id": "ecac5fba",
   "metadata": {},
   "source": [
    "Here is an even more zoomed in perspective of the two variables where the clump occurs. This gives me a better idea of the ratio where lot size is bigger than finished square feet. I can hypothesize that this chart would look different if the analysis were to be completed on a different city."
   ]
  },
  {
   "cell_type": "markdown",
   "id": "9d9e4a63",
   "metadata": {},
   "source": [
    "### In conclusion:\n",
    "I am untilmately disappointed in the fullness of the data in the earlier years as well as the lack of completeness with 2022, the largest data set. If I had greater skill set, I would have cleaned filler data out and then randomly selected data from 2012 and 2022 so that each year all had the same amount data for easier comparison. Or, I could've selected later data with only 5 year gaps between and had more full data. "
   ]
  },
  {
   "cell_type": "markdown",
   "id": "cc22b27a",
   "metadata": {},
   "source": [
    "Nevertheless, I enjoyed working with this type of data because there are so many different stories that housing data tells because of the social and financial aspects connected to housing data. I'm happy for the outcome even with the issues that I had with the data!"
   ]
  }
 ],
 "metadata": {
  "kernelspec": {
   "display_name": "Python 3 (ipykernel)",
   "language": "python",
   "name": "python3"
  },
  "language_info": {
   "codemirror_mode": {
    "name": "ipython",
    "version": 3
   },
   "file_extension": ".py",
   "mimetype": "text/x-python",
   "name": "python",
   "nbconvert_exporter": "python",
   "pygments_lexer": "ipython3",
   "version": "3.11.4"
  }
 },
 "nbformat": 4,
 "nbformat_minor": 5
}
