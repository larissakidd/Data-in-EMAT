{
 "cells": [
  {
   "cell_type": "markdown",
   "id": "ce71bc2e",
   "metadata": {},
   "source": [
    "# API Data Report by Larissa Kidd 10/15/2023\n",
    "### In this report, I am parsing data available with a Spotify Developer account to test my hypothesis:\n",
    "### Noah Kahan is pretty popular right now. I hypothesize that it is because he has above average tempo and scores high with energy and valence (even though the lyrics are not cheerful) but middle-ground danceability"
   ]
  },
  {
   "cell_type": "markdown",
   "id": "a4182754",
   "metadata": {},
   "source": [
    "I believe the way he sings is very upbeat so he will have high tempo and good valence score too. I want to compare Noah Kahan's Stick Season song (the song that put him on everyone's radar) to Dua Lipa's Dance the Night because it has very high tempo so I assume it will have valence, and danceability. For the opposite comparison, I want to use SZA's Snooze because \"snooze\" is synonymous with sleeping in so it shouldn't be very lively. I chose popular songs based off of their tempo because tempo is a universal measurement whereas the danceability, energy and valence are probably more objective. "
   ]
  },
  {
   "cell_type": "markdown",
   "id": "c606474b",
   "metadata": {},
   "source": [
    "##### First things first - importing the library that I will need to access and parse the data on Spotify"
   ]
  },
  {
   "cell_type": "code",
   "execution_count": 1,
   "id": "9ff05074",
   "metadata": {},
   "outputs": [],
   "source": [
    "import requests\n",
    "import pandas as pd\n",
    "import base64\n",
    "import json\n",
    "import urllib"
   ]
  },
  {
   "cell_type": "markdown",
   "id": "08de8200",
   "metadata": {},
   "source": [
    "##### Now, to access the data, I have to provide and apply the access keys that grant me access!"
   ]
  },
  {
   "cell_type": "code",
   "execution_count": 2,
   "id": "6d924f35",
   "metadata": {},
   "outputs": [],
   "source": [
    "Client_ID = pd.read_csv('Spotify_Keys_9-19-23.txt')['Client_ID'].iloc[0]\n",
    "Client_Secret = pd.read_csv('Spotify_Keys_9-19-23.txt')['Client_Secret'].iloc[0]"
   ]
  },
  {
   "cell_type": "code",
   "execution_count": 3,
   "id": "94214e5d",
   "metadata": {},
   "outputs": [],
   "source": [
    "client_cred = base64.b64encode(str(Client_ID + \":\" + Client_Secret).encode(\"ascii\"))"
   ]
  },
  {
   "cell_type": "code",
   "execution_count": 4,
   "id": "1c1c8880",
   "metadata": {},
   "outputs": [],
   "source": [
    "headers = {\"Authorization\": \"Basic {}\".format(client_cred.decode(\"ascii\"))}"
   ]
  },
  {
   "cell_type": "code",
   "execution_count": 5,
   "id": "7619f5dd",
   "metadata": {},
   "outputs": [],
   "source": [
    "payload = {'grant_type' : 'client_credentials'}\n",
    "url = 'https://accounts.spotify.com/api/token'"
   ]
  },
  {
   "cell_type": "code",
   "execution_count": 6,
   "id": "c396660f",
   "metadata": {},
   "outputs": [
    {
     "data": {
      "text/plain": [
       "200"
      ]
     },
     "execution_count": 6,
     "metadata": {},
     "output_type": "execute_result"
    }
   ],
   "source": [
    "session_key_response = requests.post(url = url, data = payload, headers = headers)\n",
    "session_key_response.status_code"
   ]
  },
  {
   "cell_type": "markdown",
   "id": "3ff8a6e9",
   "metadata": {},
   "source": [
    "##### With a 200 status code, I know that the access codes were correctly read into the url"
   ]
  },
  {
   "cell_type": "markdown",
   "id": "85b9bb1a",
   "metadata": {},
   "source": [
    "#### To understand more, I want to look at the info connected to Noah Kahan's spotify profile"
   ]
  },
  {
   "cell_type": "code",
   "execution_count": 7,
   "id": "1d95fbf3",
   "metadata": {},
   "outputs": [],
   "source": [
    "session_header_key = session_key_response.json"
   ]
  },
  {
   "cell_type": "code",
   "execution_count": 8,
   "id": "2a1586e8",
   "metadata": {},
   "outputs": [],
   "source": [
    "key = session_key_response.json()[\"access_token\"]"
   ]
  },
  {
   "cell_type": "code",
   "execution_count": 9,
   "id": "61d56a61",
   "metadata": {},
   "outputs": [],
   "source": [
    "session_headers = {\"Authorization\": \"Bearer {}\".format(key)}"
   ]
  },
  {
   "cell_type": "code",
   "execution_count": 10,
   "id": "cceeb918",
   "metadata": {},
   "outputs": [],
   "source": [
    "noah_kahan_id = '2RQXRUsr4IW1f3mKyKsy4B'"
   ]
  },
  {
   "cell_type": "code",
   "execution_count": 11,
   "id": "2a484efe",
   "metadata": {},
   "outputs": [],
   "source": [
    "album_url = 'https://api.spotify.com/v1/artists/{}'.format(noah_kahan_id)"
   ]
  },
  {
   "cell_type": "code",
   "execution_count": 12,
   "id": "c9077af9",
   "metadata": {},
   "outputs": [],
   "source": [
    "response = requests.get(url = album_url,headers = session_headers)"
   ]
  },
  {
   "cell_type": "code",
   "execution_count": 16,
   "id": "5c7984f3",
   "metadata": {},
   "outputs": [
    {
     "name": "stdout",
     "output_type": "stream",
     "text": [
      "['pov: indie']\n",
      "83\n"
     ]
    }
   ],
   "source": [
    "response_data = response.json()\n",
    "print(response_data['genres'])\n",
    "print(response_data['popularity'])"
   ]
  },
  {
   "cell_type": "markdown",
   "id": "ba42d60c",
   "metadata": {},
   "source": [
    "###### Noah Kahan is under the indie genre and he rates an 83 on the popularity scale which is out of 100!"
   ]
  },
  {
   "cell_type": "markdown",
   "id": "6f1ce635",
   "metadata": {},
   "source": [
    "Now, pulling the data for his number one song, Stick Season"
   ]
  },
  {
   "cell_type": "code",
   "execution_count": 17,
   "id": "e382401a",
   "metadata": {},
   "outputs": [],
   "source": [
    "stick_season_id = '0mflMxspEfB0VbI1kyLiAv'"
   ]
  },
  {
   "cell_type": "code",
   "execution_count": 18,
   "id": "13af90d9",
   "metadata": {},
   "outputs": [],
   "source": [
    "stick_audio_feature_url = 'https://api.spotify.com/v1/audio-features/{}'.format(stick_season_id)"
   ]
  },
  {
   "cell_type": "code",
   "execution_count": 19,
   "id": "2d94cb8b",
   "metadata": {},
   "outputs": [],
   "source": [
    "stick_features = requests.get(url = stick_audio_feature_url,headers = session_headers)"
   ]
  },
  {
   "cell_type": "code",
   "execution_count": 25,
   "id": "e8760045",
   "metadata": {},
   "outputs": [
    {
     "data": {
      "text/plain": [
       "{'danceability': 0.662,\n",
       " 'energy': 0.488,\n",
       " 'key': 9,\n",
       " 'loudness': -6.894,\n",
       " 'mode': 1,\n",
       " 'speechiness': 0.0682,\n",
       " 'acousticness': 0.782,\n",
       " 'instrumentalness': 0,\n",
       " 'liveness': 0.102,\n",
       " 'valence': 0.817,\n",
       " 'tempo': 117.913,\n",
       " 'type': 'audio_features',\n",
       " 'id': '0mflMxspEfB0VbI1kyLiAv',\n",
       " 'uri': 'spotify:track:0mflMxspEfB0VbI1kyLiAv',\n",
       " 'track_href': 'https://api.spotify.com/v1/tracks/0mflMxspEfB0VbI1kyLiAv',\n",
       " 'analysis_url': 'https://api.spotify.com/v1/audio-analysis/0mflMxspEfB0VbI1kyLiAv',\n",
       " 'duration_ms': 182347,\n",
       " 'time_signature': 4}"
      ]
     },
     "execution_count": 25,
     "metadata": {},
     "output_type": "execute_result"
    }
   ],
   "source": [
    "stick_features_data = stick_features.json()\n",
    "stick_features_data"
   ]
  },
  {
   "cell_type": "markdown",
   "id": "8c5c0542",
   "metadata": {},
   "source": [
    "###### For the low tempo comparison, I chose a low tempo song that is very popular this year: Snooze by SZA "
   ]
  },
  {
   "cell_type": "code",
   "execution_count": 26,
   "id": "c04ce839",
   "metadata": {},
   "outputs": [],
   "source": [
    "snooze_id = '1Qrg8KqiBpW07V7PNxwwwL'\n",
    "snooze_audio_feature_url = 'https://api.spotify.com/v1/audio-features/{}'.format(snooze_id)\n",
    "snooze_features = requests.get(url = snooze_audio_feature_url,headers = session_headers)\n",
    "snooze_features_data = snooze_features.json()\n",
    "#snooze_features_data"
   ]
  },
  {
   "cell_type": "markdown",
   "id": "6e2f371c",
   "metadata": {},
   "source": [
    "###### On the other side of the spectrum, the popular high-tempo song I chose is Dance the Night by Dua Lipa"
   ]
  },
  {
   "cell_type": "code",
   "execution_count": 27,
   "id": "7ecc87f9",
   "metadata": {},
   "outputs": [],
   "source": [
    "dance_night_id = '11C4y2Yz1XbHmaQwO06s9f'\n",
    "dance_night_audio_feature_url = 'https://api.spotify.com/v1/audio-features/{}'.format(dance_night_id)\n",
    "dance_night_features = requests.get(url = dance_night_audio_feature_url,headers = session_headers)\n",
    "dance_night_features_data = dance_night_features.json()\n",
    "#dance_night_features_data"
   ]
  },
  {
   "cell_type": "markdown",
   "id": "d5fa97b6",
   "metadata": {},
   "source": [
    "##### I want to put all three songs into a data frame and only include the 4 features I am most curious about so I need to first create dataframes"
   ]
  },
  {
   "cell_type": "code",
   "execution_count": 28,
   "id": "1ef7a8df",
   "metadata": {},
   "outputs": [
    {
     "data": {
      "text/html": [
       "<div>\n",
       "<style scoped>\n",
       "    .dataframe tbody tr th:only-of-type {\n",
       "        vertical-align: middle;\n",
       "    }\n",
       "\n",
       "    .dataframe tbody tr th {\n",
       "        vertical-align: top;\n",
       "    }\n",
       "\n",
       "    .dataframe thead th {\n",
       "        text-align: right;\n",
       "    }\n",
       "</style>\n",
       "<table border=\"1\" class=\"dataframe\">\n",
       "  <thead>\n",
       "    <tr style=\"text-align: right;\">\n",
       "      <th></th>\n",
       "      <th>danceability</th>\n",
       "      <th>energy</th>\n",
       "      <th>key</th>\n",
       "      <th>loudness</th>\n",
       "      <th>mode</th>\n",
       "      <th>speechiness</th>\n",
       "      <th>acousticness</th>\n",
       "      <th>instrumentalness</th>\n",
       "      <th>liveness</th>\n",
       "      <th>valence</th>\n",
       "      <th>tempo</th>\n",
       "      <th>type</th>\n",
       "      <th>id</th>\n",
       "      <th>uri</th>\n",
       "      <th>track_href</th>\n",
       "      <th>analysis_url</th>\n",
       "      <th>duration_ms</th>\n",
       "      <th>time_signature</th>\n",
       "    </tr>\n",
       "  </thead>\n",
       "  <tbody>\n",
       "    <tr>\n",
       "      <th>0</th>\n",
       "      <td>0.662</td>\n",
       "      <td>0.488</td>\n",
       "      <td>9</td>\n",
       "      <td>-6.894</td>\n",
       "      <td>1</td>\n",
       "      <td>0.0682</td>\n",
       "      <td>0.782</td>\n",
       "      <td>0</td>\n",
       "      <td>0.102</td>\n",
       "      <td>0.817</td>\n",
       "      <td>117.913</td>\n",
       "      <td>audio_features</td>\n",
       "      <td>0mflMxspEfB0VbI1kyLiAv</td>\n",
       "      <td>spotify:track:0mflMxspEfB0VbI1kyLiAv</td>\n",
       "      <td>https://api.spotify.com/v1/tracks/0mflMxspEfB0...</td>\n",
       "      <td>https://api.spotify.com/v1/audio-analysis/0mfl...</td>\n",
       "      <td>182347</td>\n",
       "      <td>4</td>\n",
       "    </tr>\n",
       "  </tbody>\n",
       "</table>\n",
       "</div>"
      ],
      "text/plain": [
       "   danceability  energy  key  loudness  mode  speechiness  acousticness  \\\n",
       "0         0.662   0.488    9    -6.894     1       0.0682         0.782   \n",
       "\n",
       "   instrumentalness  liveness  valence    tempo            type  \\\n",
       "0                 0     0.102    0.817  117.913  audio_features   \n",
       "\n",
       "                       id                                   uri  \\\n",
       "0  0mflMxspEfB0VbI1kyLiAv  spotify:track:0mflMxspEfB0VbI1kyLiAv   \n",
       "\n",
       "                                          track_href  \\\n",
       "0  https://api.spotify.com/v1/tracks/0mflMxspEfB0...   \n",
       "\n",
       "                                        analysis_url  duration_ms  \\\n",
       "0  https://api.spotify.com/v1/audio-analysis/0mfl...       182347   \n",
       "\n",
       "   time_signature  \n",
       "0               4  "
      ]
     },
     "execution_count": 28,
     "metadata": {},
     "output_type": "execute_result"
    }
   ],
   "source": [
    "stick_features_df = pd.DataFrame([stick_features_data])\n",
    "stick_features_df"
   ]
  },
  {
   "cell_type": "code",
   "execution_count": 29,
   "id": "92dc5601",
   "metadata": {},
   "outputs": [],
   "source": [
    "snooze_features_df = pd.DataFrame([snooze_features_data])\n",
    "#snooze_features_df"
   ]
  },
  {
   "cell_type": "code",
   "execution_count": 30,
   "id": "0e6f68c5",
   "metadata": {},
   "outputs": [],
   "source": [
    "dance_night_features_df = pd.DataFrame([dance_night_features_data])\n",
    "#dance_night_features_df"
   ]
  },
  {
   "cell_type": "markdown",
   "id": "2666076b",
   "metadata": {},
   "source": [
    "##### With the 3 different dataframes, I want to be able to glance at one data frame and easily compare the things I am curious about. So, to 'stack' the dataframes ontop of each other, I am using the concatenate feature in Pandas"
   ]
  },
  {
   "cell_type": "code",
   "execution_count": 33,
   "id": "6b526417",
   "metadata": {},
   "outputs": [
    {
     "data": {
      "text/html": [
       "<div>\n",
       "<style scoped>\n",
       "    .dataframe tbody tr th:only-of-type {\n",
       "        vertical-align: middle;\n",
       "    }\n",
       "\n",
       "    .dataframe tbody tr th {\n",
       "        vertical-align: top;\n",
       "    }\n",
       "\n",
       "    .dataframe thead th {\n",
       "        text-align: right;\n",
       "    }\n",
       "</style>\n",
       "<table border=\"1\" class=\"dataframe\">\n",
       "  <thead>\n",
       "    <tr style=\"text-align: right;\">\n",
       "      <th></th>\n",
       "      <th></th>\n",
       "      <th>danceability</th>\n",
       "      <th>energy</th>\n",
       "      <th>key</th>\n",
       "      <th>loudness</th>\n",
       "      <th>mode</th>\n",
       "      <th>speechiness</th>\n",
       "      <th>acousticness</th>\n",
       "      <th>instrumentalness</th>\n",
       "      <th>liveness</th>\n",
       "      <th>valence</th>\n",
       "      <th>tempo</th>\n",
       "      <th>type</th>\n",
       "      <th>id</th>\n",
       "      <th>uri</th>\n",
       "      <th>track_href</th>\n",
       "      <th>analysis_url</th>\n",
       "      <th>duration_ms</th>\n",
       "      <th>time_signature</th>\n",
       "    </tr>\n",
       "  </thead>\n",
       "  <tbody>\n",
       "    <tr>\n",
       "      <th>Stick Season</th>\n",
       "      <th>0</th>\n",
       "      <td>0.662</td>\n",
       "      <td>0.488</td>\n",
       "      <td>9</td>\n",
       "      <td>-6.894</td>\n",
       "      <td>1</td>\n",
       "      <td>0.0682</td>\n",
       "      <td>0.7820</td>\n",
       "      <td>0.000</td>\n",
       "      <td>0.102</td>\n",
       "      <td>0.817</td>\n",
       "      <td>117.913</td>\n",
       "      <td>audio_features</td>\n",
       "      <td>0mflMxspEfB0VbI1kyLiAv</td>\n",
       "      <td>spotify:track:0mflMxspEfB0VbI1kyLiAv</td>\n",
       "      <td>https://api.spotify.com/v1/tracks/0mflMxspEfB0...</td>\n",
       "      <td>https://api.spotify.com/v1/audio-analysis/0mfl...</td>\n",
       "      <td>182347</td>\n",
       "      <td>4</td>\n",
       "    </tr>\n",
       "    <tr>\n",
       "      <th>Snooze</th>\n",
       "      <th>0</th>\n",
       "      <td>0.644</td>\n",
       "      <td>0.735</td>\n",
       "      <td>8</td>\n",
       "      <td>-5.747</td>\n",
       "      <td>1</td>\n",
       "      <td>0.0391</td>\n",
       "      <td>0.0521</td>\n",
       "      <td>0.144</td>\n",
       "      <td>0.161</td>\n",
       "      <td>0.418</td>\n",
       "      <td>88.980</td>\n",
       "      <td>audio_features</td>\n",
       "      <td>1Qrg8KqiBpW07V7PNxwwwL</td>\n",
       "      <td>spotify:track:1Qrg8KqiBpW07V7PNxwwwL</td>\n",
       "      <td>https://api.spotify.com/v1/tracks/1Qrg8KqiBpW0...</td>\n",
       "      <td>https://api.spotify.com/v1/audio-analysis/1Qrg...</td>\n",
       "      <td>153947</td>\n",
       "      <td>4</td>\n",
       "    </tr>\n",
       "    <tr>\n",
       "      <th>Dance the Night</th>\n",
       "      <th>0</th>\n",
       "      <td>0.671</td>\n",
       "      <td>0.845</td>\n",
       "      <td>11</td>\n",
       "      <td>-4.930</td>\n",
       "      <td>0</td>\n",
       "      <td>0.0480</td>\n",
       "      <td>0.0207</td>\n",
       "      <td>0.000</td>\n",
       "      <td>0.329</td>\n",
       "      <td>0.775</td>\n",
       "      <td>110.056</td>\n",
       "      <td>audio_features</td>\n",
       "      <td>11C4y2Yz1XbHmaQwO06s9f</td>\n",
       "      <td>spotify:track:11C4y2Yz1XbHmaQwO06s9f</td>\n",
       "      <td>https://api.spotify.com/v1/tracks/11C4y2Yz1XbH...</td>\n",
       "      <td>https://api.spotify.com/v1/audio-analysis/11C4...</td>\n",
       "      <td>176579</td>\n",
       "      <td>4</td>\n",
       "    </tr>\n",
       "  </tbody>\n",
       "</table>\n",
       "</div>"
      ],
      "text/plain": [
       "                   danceability  energy  key  loudness  mode  speechiness  \\\n",
       "Stick Season    0         0.662   0.488    9    -6.894     1       0.0682   \n",
       "Snooze          0         0.644   0.735    8    -5.747     1       0.0391   \n",
       "Dance the Night 0         0.671   0.845   11    -4.930     0       0.0480   \n",
       "\n",
       "                   acousticness  instrumentalness  liveness  valence    tempo  \\\n",
       "Stick Season    0        0.7820             0.000     0.102    0.817  117.913   \n",
       "Snooze          0        0.0521             0.144     0.161    0.418   88.980   \n",
       "Dance the Night 0        0.0207             0.000     0.329    0.775  110.056   \n",
       "\n",
       "                             type                      id  \\\n",
       "Stick Season    0  audio_features  0mflMxspEfB0VbI1kyLiAv   \n",
       "Snooze          0  audio_features  1Qrg8KqiBpW07V7PNxwwwL   \n",
       "Dance the Night 0  audio_features  11C4y2Yz1XbHmaQwO06s9f   \n",
       "\n",
       "                                                    uri  \\\n",
       "Stick Season    0  spotify:track:0mflMxspEfB0VbI1kyLiAv   \n",
       "Snooze          0  spotify:track:1Qrg8KqiBpW07V7PNxwwwL   \n",
       "Dance the Night 0  spotify:track:11C4y2Yz1XbHmaQwO06s9f   \n",
       "\n",
       "                                                          track_href  \\\n",
       "Stick Season    0  https://api.spotify.com/v1/tracks/0mflMxspEfB0...   \n",
       "Snooze          0  https://api.spotify.com/v1/tracks/1Qrg8KqiBpW0...   \n",
       "Dance the Night 0  https://api.spotify.com/v1/tracks/11C4y2Yz1XbH...   \n",
       "\n",
       "                                                        analysis_url  \\\n",
       "Stick Season    0  https://api.spotify.com/v1/audio-analysis/0mfl...   \n",
       "Snooze          0  https://api.spotify.com/v1/audio-analysis/1Qrg...   \n",
       "Dance the Night 0  https://api.spotify.com/v1/audio-analysis/11C4...   \n",
       "\n",
       "                   duration_ms  time_signature  \n",
       "Stick Season    0       182347               4  \n",
       "Snooze          0       153947               4  \n",
       "Dance the Night 0       176579               4  "
      ]
     },
     "execution_count": 33,
     "metadata": {},
     "output_type": "execute_result"
    }
   ],
   "source": [
    "joined_df = pd.concat([stick_features_df, snooze_features_df, dance_night_features_df], keys=['Stick Season','Snooze','Dance the Night'])\n",
    "joined_df"
   ]
  },
  {
   "cell_type": "markdown",
   "id": "8a3fbd5d",
   "metadata": {},
   "source": [
    "##### Because I am only curious about the 4 features I meantioned in my hypothesis, I am going to drop the other columns that are less relevant to my project"
   ]
  },
  {
   "cell_type": "code",
   "execution_count": 34,
   "id": "aa582ca0",
   "metadata": {},
   "outputs": [
    {
     "data": {
      "text/html": [
       "<div>\n",
       "<style scoped>\n",
       "    .dataframe tbody tr th:only-of-type {\n",
       "        vertical-align: middle;\n",
       "    }\n",
       "\n",
       "    .dataframe tbody tr th {\n",
       "        vertical-align: top;\n",
       "    }\n",
       "\n",
       "    .dataframe thead th {\n",
       "        text-align: right;\n",
       "    }\n",
       "</style>\n",
       "<table border=\"1\" class=\"dataframe\">\n",
       "  <thead>\n",
       "    <tr style=\"text-align: right;\">\n",
       "      <th></th>\n",
       "      <th></th>\n",
       "      <th>danceability</th>\n",
       "      <th>energy</th>\n",
       "      <th>valence</th>\n",
       "      <th>tempo</th>\n",
       "    </tr>\n",
       "  </thead>\n",
       "  <tbody>\n",
       "    <tr>\n",
       "      <th>Stick Season</th>\n",
       "      <th>0</th>\n",
       "      <td>0.662</td>\n",
       "      <td>0.488</td>\n",
       "      <td>0.817</td>\n",
       "      <td>117.913</td>\n",
       "    </tr>\n",
       "    <tr>\n",
       "      <th>Snooze</th>\n",
       "      <th>0</th>\n",
       "      <td>0.644</td>\n",
       "      <td>0.735</td>\n",
       "      <td>0.418</td>\n",
       "      <td>88.980</td>\n",
       "    </tr>\n",
       "    <tr>\n",
       "      <th>Dance the Night</th>\n",
       "      <th>0</th>\n",
       "      <td>0.671</td>\n",
       "      <td>0.845</td>\n",
       "      <td>0.775</td>\n",
       "      <td>110.056</td>\n",
       "    </tr>\n",
       "  </tbody>\n",
       "</table>\n",
       "</div>"
      ],
      "text/plain": [
       "                   danceability  energy  valence    tempo\n",
       "Stick Season    0         0.662   0.488    0.817  117.913\n",
       "Snooze          0         0.644   0.735    0.418   88.980\n",
       "Dance the Night 0         0.671   0.845    0.775  110.056"
      ]
     },
     "execution_count": 34,
     "metadata": {},
     "output_type": "execute_result"
    }
   ],
   "source": [
    "final_df = joined_df.drop(columns=['key', 'loudness','mode','speechiness','instrumentalness','liveness','acousticness','type','id','uri','track_href','analysis_url','time_signature','duration_ms'])\n",
    "final_df"
   ]
  },
  {
   "cell_type": "markdown",
   "id": "07ebdde0",
   "metadata": {},
   "source": [
    "### Just as I hypothesized..\n",
    "In comparison to the other two popular songs, the danceability for Stick Season is in the middle compared to the other two popular songs\n",
    "### Suprisingly, the energy for Stick Season is the lowest of the three\n",
    "This is weird because of how low energy I percieve Snooze and because the tempo of Stick Season is higher than both of them\n",
    "### My hypothesis was correct in assuming valence would be high even though words are not entirely cheery\n",
    "I credit this score to the high tempo"
   ]
  },
  {
   "cell_type": "markdown",
   "id": "4c9a9b0a",
   "metadata": {},
   "source": [
    "### Why use the endpoints I wanted to use\n",
    "My first point of curiosity is where Spotify classifies Noah as a genre and what his popularity is as background info, so for that I pulled the artist endpoint\n",
    "For my hypothesis I want to look at specific songs' audio features, so I am using the track's audio features endpoint to get to the exact place I want\n",
    "### Reliable or unreliable?\n",
    "I think this data is unreliable as far as validity because it is scaling the audio features on things that aren't entirely subjectively measured - so that might explain why some of the danceability or valence doesn't exactly make sense to my original guesses (because I could have a different opinon) but they are fun for curiosity sake!"
   ]
  }
 ],
 "metadata": {
  "kernelspec": {
   "display_name": "Python 3 (ipykernel)",
   "language": "python",
   "name": "python3"
  },
  "language_info": {
   "codemirror_mode": {
    "name": "ipython",
    "version": 3
   },
   "file_extension": ".py",
   "mimetype": "text/x-python",
   "name": "python",
   "nbconvert_exporter": "python",
   "pygments_lexer": "ipython3",
   "version": "3.11.4"
  }
 },
 "nbformat": 4,
 "nbformat_minor": 5
}
