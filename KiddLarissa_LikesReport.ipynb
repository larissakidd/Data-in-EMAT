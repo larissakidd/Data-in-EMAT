{
 "cells": [
  {
   "cell_type": "markdown",
   "id": "beee1b18",
   "metadata": {},
   "source": [
    "# Larissa Kidd 9/12/2023\n",
    "## Instragram Likes Report\n",
    " I hypothesize that \"pubity\" and \"memezar\" are in my top 20 accounts liked  because I have followed them for a long time and I like pubity's news reports and I enjoy memes"
   ]
  },
  {
   "cell_type": "code",
   "execution_count": 2,
   "id": "20f9f1bc",
   "metadata": {},
   "outputs": [],
   "source": [
    "import pandas as pd\n",
    "import json"
   ]
  },
  {
   "cell_type": "code",
   "execution_count": 3,
   "id": "1238a17a",
   "metadata": {},
   "outputs": [],
   "source": [
    "with open('/Users/larissakidd/Downloads/Fourth Year/Fall 23/Data in EMAT/instagram/likes/liked_posts.json') as j:\n",
    "    my_data = json.load(j)"
   ]
  },
  {
   "cell_type": "markdown",
   "id": "30686f37",
   "metadata": {},
   "source": [
    "### I now have my instagram likes loaded\n",
    "Now I want to create a dataframe from them"
   ]
  },
  {
   "cell_type": "code",
   "execution_count": 4,
   "id": "dce8bc4d",
   "metadata": {},
   "outputs": [],
   "source": [
    "my_df = pd.DataFrame(my_data['likes_media_likes'])"
   ]
  },
  {
   "cell_type": "markdown",
   "id": "4644020f",
   "metadata": {},
   "source": [
    "### I want to add timestamps - so I need to find it in the data"
   ]
  },
  {
   "cell_type": "code",
   "execution_count": 5,
   "id": "6c22b149",
   "metadata": {},
   "outputs": [
    {
     "data": {
      "text/plain": [
       "1693581754"
      ]
     },
     "execution_count": 5,
     "metadata": {},
     "output_type": "execute_result"
    }
   ],
   "source": [
    "my_data['likes_media_likes'][0]['string_list_data'][0]['timestamp']"
   ]
  },
  {
   "cell_type": "markdown",
   "id": "eb45b8b1",
   "metadata": {},
   "source": [
    "### now to add these into a variable"
   ]
  },
  {
   "cell_type": "code",
   "execution_count": 6,
   "id": "26f651af",
   "metadata": {},
   "outputs": [
    {
     "data": {
      "text/plain": [
       "[1693581754,\n",
       " 1693581074,\n",
       " 1693581036,\n",
       " 1693515116,\n",
       " 1693515083,\n",
       " 1693493787,\n",
       " 1693493777,\n",
       " 1693447022,\n",
       " 1693428135,\n",
       " 1693417571]"
      ]
     },
     "execution_count": 6,
     "metadata": {},
     "output_type": "execute_result"
    }
   ],
   "source": [
    "time = [x['string_list_data'][0]['timestamp'] for x in my_data['likes_media_likes']] \n",
    "time[0:10]"
   ]
  },
  {
   "cell_type": "markdown",
   "id": "a0c9d32f",
   "metadata": {},
   "source": [
    "### Now that I found it, I need to add time as a column in my data"
   ]
  },
  {
   "cell_type": "code",
   "execution_count": 7,
   "id": "85890375",
   "metadata": {},
   "outputs": [
    {
     "data": {
      "text/html": [
       "<div>\n",
       "<style scoped>\n",
       "    .dataframe tbody tr th:only-of-type {\n",
       "        vertical-align: middle;\n",
       "    }\n",
       "\n",
       "    .dataframe tbody tr th {\n",
       "        vertical-align: top;\n",
       "    }\n",
       "\n",
       "    .dataframe thead th {\n",
       "        text-align: right;\n",
       "    }\n",
       "</style>\n",
       "<table border=\"1\" class=\"dataframe\">\n",
       "  <thead>\n",
       "    <tr style=\"text-align: right;\">\n",
       "      <th></th>\n",
       "      <th>title</th>\n",
       "      <th>string_list_data</th>\n",
       "      <th>likes_timestamps</th>\n",
       "    </tr>\n",
       "  </thead>\n",
       "  <tbody>\n",
       "    <tr>\n",
       "      <th>0</th>\n",
       "      <td>pubity</td>\n",
       "      <td>[{'href': 'https://www.instagram.com/p/CwpdJOQ...</td>\n",
       "      <td>1693581754</td>\n",
       "    </tr>\n",
       "    <tr>\n",
       "      <th>1</th>\n",
       "      <td>kentsportswear</td>\n",
       "      <td>[{'href': 'https://www.instagram.com/p/CwpZ71s...</td>\n",
       "      <td>1693581074</td>\n",
       "    </tr>\n",
       "    <tr>\n",
       "      <th>2</th>\n",
       "      <td>larochesoccer</td>\n",
       "      <td>[{'href': 'https://www.instagram.com/p/CwpxFoC...</td>\n",
       "      <td>1693581036</td>\n",
       "    </tr>\n",
       "    <tr>\n",
       "      <th>3</th>\n",
       "      <td>memezar</td>\n",
       "      <td>[{'href': 'https://www.instagram.com/p/CwnxypU...</td>\n",
       "      <td>1693515116</td>\n",
       "    </tr>\n",
       "    <tr>\n",
       "      <th>4</th>\n",
       "      <td>hannah.lohmueller</td>\n",
       "      <td>[{'href': 'https://www.instagram.com/p/CwnUu6z...</td>\n",
       "      <td>1693515083</td>\n",
       "    </tr>\n",
       "    <tr>\n",
       "      <th>5</th>\n",
       "      <td>_abbydev_</td>\n",
       "      <td>[{'href': 'https://www.instagram.com/p/Cwm_eNT...</td>\n",
       "      <td>1693493787</td>\n",
       "    </tr>\n",
       "    <tr>\n",
       "      <th>6</th>\n",
       "      <td>rachelostavitz</td>\n",
       "      <td>[{'href': 'https://www.instagram.com/p/CwksJAI...</td>\n",
       "      <td>1693493777</td>\n",
       "    </tr>\n",
       "    <tr>\n",
       "      <th>7</th>\n",
       "      <td>kentstatepanhellenic</td>\n",
       "      <td>[{'href': 'https://www.instagram.com/p/CwiPqF5...</td>\n",
       "      <td>1693447022</td>\n",
       "    </tr>\n",
       "    <tr>\n",
       "      <th>8</th>\n",
       "      <td>kellysummersphotography</td>\n",
       "      <td>[{'href': 'https://www.instagram.com/p/CwlB5Jf...</td>\n",
       "      <td>1693428135</td>\n",
       "    </tr>\n",
       "    <tr>\n",
       "      <th>9</th>\n",
       "      <td>christina.black</td>\n",
       "      <td>[{'href': 'https://www.instagram.com/p/Cwf9yJQ...</td>\n",
       "      <td>1693417571</td>\n",
       "    </tr>\n",
       "    <tr>\n",
       "      <th>10</th>\n",
       "      <td>pnwdad206</td>\n",
       "      <td>[{'href': 'https://www.instagram.com/reel/Cv7b...</td>\n",
       "      <td>1693417490</td>\n",
       "    </tr>\n",
       "  </tbody>\n",
       "</table>\n",
       "</div>"
      ],
      "text/plain": [
       "                      title  \\\n",
       "0                    pubity   \n",
       "1            kentsportswear   \n",
       "2             larochesoccer   \n",
       "3                   memezar   \n",
       "4         hannah.lohmueller   \n",
       "5                 _abbydev_   \n",
       "6            rachelostavitz   \n",
       "7      kentstatepanhellenic   \n",
       "8   kellysummersphotography   \n",
       "9           christina.black   \n",
       "10                pnwdad206   \n",
       "\n",
       "                                     string_list_data  likes_timestamps  \n",
       "0   [{'href': 'https://www.instagram.com/p/CwpdJOQ...        1693581754  \n",
       "1   [{'href': 'https://www.instagram.com/p/CwpZ71s...        1693581074  \n",
       "2   [{'href': 'https://www.instagram.com/p/CwpxFoC...        1693581036  \n",
       "3   [{'href': 'https://www.instagram.com/p/CwnxypU...        1693515116  \n",
       "4   [{'href': 'https://www.instagram.com/p/CwnUu6z...        1693515083  \n",
       "5   [{'href': 'https://www.instagram.com/p/Cwm_eNT...        1693493787  \n",
       "6   [{'href': 'https://www.instagram.com/p/CwksJAI...        1693493777  \n",
       "7   [{'href': 'https://www.instagram.com/p/CwiPqF5...        1693447022  \n",
       "8   [{'href': 'https://www.instagram.com/p/CwlB5Jf...        1693428135  \n",
       "9   [{'href': 'https://www.instagram.com/p/Cwf9yJQ...        1693417571  \n",
       "10  [{'href': 'https://www.instagram.com/reel/Cv7b...        1693417490  "
      ]
     },
     "execution_count": 7,
     "metadata": {},
     "output_type": "execute_result"
    }
   ],
   "source": [
    "my_df['likes_timestamps'] = time\n",
    "my_df[0:11]"
   ]
  },
  {
   "cell_type": "code",
   "execution_count": 8,
   "id": "8051738d",
   "metadata": {
    "scrolled": true
   },
   "outputs": [
    {
     "data": {
      "text/plain": [
       "(1382, 2)"
      ]
     },
     "execution_count": 8,
     "metadata": {},
     "output_type": "execute_result"
    }
   ],
   "source": [
    "grouped = my_df.groupby('title').count()\n",
    "grouped.shape"
   ]
  },
  {
   "cell_type": "markdown",
   "id": "7cfdbb32",
   "metadata": {},
   "source": [
    "### While I only show 10 accounts (titles), there are 1,382 accounts in the timestamp dataframe"
   ]
  },
  {
   "cell_type": "markdown",
   "id": "61838a5c",
   "metadata": {},
   "source": [
    "Now, I want to know quantity of likes over time so I need to count them!"
   ]
  },
  {
   "cell_type": "code",
   "execution_count": 9,
   "id": "3b2c3a56",
   "metadata": {},
   "outputs": [
    {
     "data": {
      "text/html": [
       "<div>\n",
       "<style scoped>\n",
       "    .dataframe tbody tr th:only-of-type {\n",
       "        vertical-align: middle;\n",
       "    }\n",
       "\n",
       "    .dataframe tbody tr th {\n",
       "        vertical-align: top;\n",
       "    }\n",
       "\n",
       "    .dataframe thead th {\n",
       "        text-align: right;\n",
       "    }\n",
       "</style>\n",
       "<table border=\"1\" class=\"dataframe\">\n",
       "  <thead>\n",
       "    <tr style=\"text-align: right;\">\n",
       "      <th></th>\n",
       "      <th>string_list_data</th>\n",
       "      <th>likes_timestamps</th>\n",
       "    </tr>\n",
       "    <tr>\n",
       "      <th>title</th>\n",
       "      <th></th>\n",
       "      <th></th>\n",
       "    </tr>\n",
       "  </thead>\n",
       "  <tbody>\n",
       "    <tr>\n",
       "      <th>cohmedy</th>\n",
       "      <td>199</td>\n",
       "      <td>199</td>\n",
       "    </tr>\n",
       "    <tr>\n",
       "      <th>hhigley00</th>\n",
       "      <td>144</td>\n",
       "      <td>144</td>\n",
       "    </tr>\n",
       "    <tr>\n",
       "      <th>lilygcashmoneyap</th>\n",
       "      <td>144</td>\n",
       "      <td>144</td>\n",
       "    </tr>\n",
       "    <tr>\n",
       "      <th>ksudeltagamma</th>\n",
       "      <td>137</td>\n",
       "      <td>137</td>\n",
       "    </tr>\n",
       "    <tr>\n",
       "      <th>pubity</th>\n",
       "      <td>120</td>\n",
       "      <td>120</td>\n",
       "    </tr>\n",
       "    <tr>\n",
       "      <th>zk_k18</th>\n",
       "      <td>108</td>\n",
       "      <td>108</td>\n",
       "    </tr>\n",
       "    <tr>\n",
       "      <th>fab_ksu</th>\n",
       "      <td>104</td>\n",
       "      <td>104</td>\n",
       "    </tr>\n",
       "    <tr>\n",
       "      <th>lilygracepittman</th>\n",
       "      <td>100</td>\n",
       "      <td>100</td>\n",
       "    </tr>\n",
       "    <tr>\n",
       "      <th>xo.aubs_</th>\n",
       "      <td>81</td>\n",
       "      <td>81</td>\n",
       "    </tr>\n",
       "    <tr>\n",
       "      <th>daquan</th>\n",
       "      <td>78</td>\n",
       "      <td>78</td>\n",
       "    </tr>\n",
       "    <tr>\n",
       "      <th>kellysummersphotography</th>\n",
       "      <td>74</td>\n",
       "      <td>74</td>\n",
       "    </tr>\n",
       "    <tr>\n",
       "      <th>barstoolkent</th>\n",
       "      <td>64</td>\n",
       "      <td>64</td>\n",
       "    </tr>\n",
       "    <tr>\n",
       "      <th>mat_thew_please</th>\n",
       "      <td>58</td>\n",
       "      <td>58</td>\n",
       "    </tr>\n",
       "    <tr>\n",
       "      <th>courtney_sayre</th>\n",
       "      <td>55</td>\n",
       "      <td>55</td>\n",
       "    </tr>\n",
       "    <tr>\n",
       "      <th>theanairene</th>\n",
       "      <td>53</td>\n",
       "      <td>53</td>\n",
       "    </tr>\n",
       "    <tr>\n",
       "      <th>tampon</th>\n",
       "      <td>53</td>\n",
       "      <td>53</td>\n",
       "    </tr>\n",
       "    <tr>\n",
       "      <th>ksudgphilanthropy</th>\n",
       "      <td>49</td>\n",
       "      <td>49</td>\n",
       "    </tr>\n",
       "    <tr>\n",
       "      <th>jenicakidd</th>\n",
       "      <td>48</td>\n",
       "      <td>48</td>\n",
       "    </tr>\n",
       "    <tr>\n",
       "      <th>scoobydoofruitsnacks</th>\n",
       "      <td>48</td>\n",
       "      <td>48</td>\n",
       "    </tr>\n",
       "    <tr>\n",
       "      <th>shockran99</th>\n",
       "      <td>46</td>\n",
       "      <td>46</td>\n",
       "    </tr>\n",
       "  </tbody>\n",
       "</table>\n",
       "</div>"
      ],
      "text/plain": [
       "                         string_list_data  likes_timestamps\n",
       "title                                                      \n",
       "cohmedy                               199               199\n",
       "hhigley00                             144               144\n",
       "lilygcashmoneyap                      144               144\n",
       "ksudeltagamma                         137               137\n",
       "pubity                                120               120\n",
       "zk_k18                                108               108\n",
       "fab_ksu                               104               104\n",
       "lilygracepittman                      100               100\n",
       "xo.aubs_                               81                81\n",
       "daquan                                 78                78\n",
       "kellysummersphotography                74                74\n",
       "barstoolkent                           64                64\n",
       "mat_thew_please                        58                58\n",
       "courtney_sayre                         55                55\n",
       "theanairene                            53                53\n",
       "tampon                                 53                53\n",
       "ksudgphilanthropy                      49                49\n",
       "jenicakidd                             48                48\n",
       "scoobydoofruitsnacks                   48                48\n",
       "shockran99                             46                46"
      ]
     },
     "execution_count": 9,
     "metadata": {},
     "output_type": "execute_result"
    }
   ],
   "source": [
    "grouped.sort_values('likes_timestamps', ascending = False).head(20)"
   ]
  },
  {
   "cell_type": "markdown",
   "id": "bf0d378a",
   "metadata": {},
   "source": [
    "### Contrary to my hypothesis, memezar is not in the top 20.\n",
    "To settle my curiosity, I need to find it where it lies."
   ]
  },
  {
   "cell_type": "code",
   "execution_count": 10,
   "id": "1528a95a",
   "metadata": {},
   "outputs": [
    {
     "data": {
      "text/plain": [
       "string_list_data    34\n",
       "likes_timestamps    34\n",
       "Name: memezar, dtype: int64"
      ]
     },
     "execution_count": 10,
     "metadata": {},
     "output_type": "execute_result"
    }
   ],
   "source": [
    "grouped.loc['memezar']"
   ]
  },
  {
   "cell_type": "markdown",
   "id": "1c38bc2d",
   "metadata": {},
   "source": [
    "## While \"pubity\" is in the top 5 with 120 likes,  \"memezar\" is well below the top 20 with only 34 likes. \n",
    "Upon seeing the results of my top-liked accounts, I also realized that I neglected to think about my long time best friend, my sorority, and my boyfriend which are also obviously in the top 5... whoops"
   ]
  },
  {
   "cell_type": "markdown",
   "id": "e09d1ab6",
   "metadata": {},
   "source": [
    "## If I could reapproach:\n",
    "### I would figure out the timeline of how far back this data goes \n",
    "It is hard to read the timestamps because of their format so I might have misjudged based on how far back this data is collected from. To mitigate this problem, I would have to convert the time into something legible in regularly used time/date format.  "
   ]
  },
  {
   "cell_type": "markdown",
   "id": "3dde5004",
   "metadata": {},
   "source": [
    "## Limitations\n",
    "I was surprised with how well this data worked and I felt like it was relatively easy to manipulate. The only issue was finding how far back this data went as far as the timeline and it was difficult to find where I had look to get the data I needed because they are deeply imbedded. "
   ]
  },
  {
   "cell_type": "code",
   "execution_count": null,
   "id": "86f30ee7",
   "metadata": {},
   "outputs": [],
   "source": []
  }
 ],
 "metadata": {
  "kernelspec": {
   "display_name": "Python 3 (ipykernel)",
   "language": "python",
   "name": "python3"
  },
  "language_info": {
   "codemirror_mode": {
    "name": "ipython",
    "version": 3
   },
   "file_extension": ".py",
   "mimetype": "text/x-python",
   "name": "python",
   "nbconvert_exporter": "python",
   "pygments_lexer": "ipython3",
   "version": "3.11.4"
  }
 },
 "nbformat": 4,
 "nbformat_minor": 5
}
