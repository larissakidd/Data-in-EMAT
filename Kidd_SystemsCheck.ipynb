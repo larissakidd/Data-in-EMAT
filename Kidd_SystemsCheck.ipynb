{
 "cells": [
  {
   "cell_type": "markdown",
   "id": "ac85c7ed",
   "metadata": {},
   "source": [
    "# Hello!\n",
    "## My name is Larissa Kidd\n",
    "I am a senior Business Analytics major and international business minor\n",
    "I love learning new languages of code and doing things I am not used to. I love a challenge!"
   ]
  },
  {
   "cell_type": "code",
   "execution_count": 3,
   "id": "3e60cd95",
   "metadata": {},
   "outputs": [
    {
     "name": "stdout",
     "output_type": "stream",
     "text": [
      "Dr. Silva\n"
     ]
    }
   ],
   "source": [
    "x = \"Dr. Silva\"\n",
    "print(x)"
   ]
  }
 ],
 "metadata": {
  "kernelspec": {
   "display_name": "Python 3 (ipykernel)",
   "language": "python",
   "name": "python3"
  },
  "language_info": {
   "codemirror_mode": {
    "name": "ipython",
    "version": 3
   },
   "file_extension": ".py",
   "mimetype": "text/x-python",
   "name": "python",
   "nbconvert_exporter": "python",
   "pygments_lexer": "ipython3",
   "version": "3.11.4"
  }
 },
 "nbformat": 4,
 "nbformat_minor": 5
}
